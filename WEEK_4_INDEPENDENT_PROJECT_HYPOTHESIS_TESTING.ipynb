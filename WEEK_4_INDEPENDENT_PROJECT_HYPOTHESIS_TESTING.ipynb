{
  "nbformat": 4,
  "nbformat_minor": 0,
  "metadata": {
    "colab": {
      "name": "WEEK 4 INDEPENDENT PROJECT- HYPOTHESIS TESTING",
      "provenance": [],
      "collapsed_sections": [],
      "toc_visible": true,
      "include_colab_link": true
    },
    "kernelspec": {
      "name": "python3",
      "display_name": "Python 3"
    }
  },
  "cells": [
    {
      "cell_type": "markdown",
      "metadata": {
        "id": "view-in-github",
        "colab_type": "text"
      },
      "source": [
        "<a href=\"https://colab.research.google.com/github/vivianusdjpy/WEEK-4-INDEPENDENT-PROJECT-HYPOTHESIS-TESTING/blob/master/WEEK_4_INDEPENDENT_PROJECT_HYPOTHESIS_TESTING.ipynb\" target=\"_parent\"><img src=\"https://colab.research.google.com/assets/colab-badge.svg\" alt=\"Open In Colab\"/></a>"
      ]
    },
    {
      "cell_type": "markdown",
      "metadata": {
        "id": "tZTdJCa54vB-",
        "colab_type": "text"
      },
      "source": [
        "# PROBLEM STATEMENT \n",
        "\n",
        "In France,postal codes are used to identify the location of a place. First two digits represent the district, and the last three are for subdivisions (town or neighborhood). The dataset provided has 104 distinct postal codes. Considering Postal code 75015 and 75017, identify whether the rate at which Bluecars are picked from the two stations is the same"
      ]
    },
    {
      "cell_type": "markdown",
      "metadata": {
        "id": "fNJVECC65Qnn",
        "colab_type": "text"
      },
      "source": [
        "# HYPOTHESIS \n",
        "\n",
        "Is the number of Blue cars taken in postal code equal to the number of Blue cars taken in Postal Code 75017 ?"
      ]
    },
    {
      "cell_type": "markdown",
      "metadata": {
        "id": "Sclq3m7M43hC",
        "colab_type": "text"
      },
      "source": [
        "# METRIC FOR SUCCESS \n",
        "\n",
        "This project will be successful when we identify whether the Blue cars taken in postal code 75015 are the same as Blue Cars taken in Postal Code 75017"
      ]
    },
    {
      "cell_type": "markdown",
      "metadata": {
        "id": "IHh6x28Y7VX_",
        "colab_type": "text"
      },
      "source": [
        "# LOADING THE DATA & LIBRARIES"
      ]
    },
    {
      "cell_type": "code",
      "metadata": {
        "id": "VBJ4USpUyay2",
        "colab_type": "code",
        "colab": {}
      },
      "source": [
        "import pandas as pd\n",
        "\n",
        "import numpy as np\n",
        "\n",
        "import matplotlib.pyplot as pyplot\n",
        "\n",
        "import seaborn as sns\n",
        "\n",
        "import pandas_profiling\n",
        "\n",
        "from sklearn.cluster import KMeans\n",
        "\n",
        "from numpy.random import seed\n",
        "\n",
        "from numpy.random import randn\n",
        "\n",
        "from statsmodels.graphics.gofplots import qqplot\n",
        "\n",
        "%matplotlib inline"
      ],
      "execution_count": 0,
      "outputs": []
    },
    {
      "cell_type": "code",
      "metadata": {
        "id": "GVMHApgLzv2N",
        "colab_type": "code",
        "outputId": "9a972c07-3ffc-4886-fa96-240931dd0e40",
        "colab": {
          "base_uri": "https://localhost:8080/",
          "height": 443
        }
      },
      "source": [
        "#loading the data\n",
        "df= pd.read_csv(\"/content/autolib_daily_events_postal_code.csv\")\n",
        "df\n"
      ],
      "execution_count": 2,
      "outputs": [
        {
          "output_type": "execute_result",
          "data": {
            "text/html": [
              "<div>\n",
              "<style scoped>\n",
              "    .dataframe tbody tr th:only-of-type {\n",
              "        vertical-align: middle;\n",
              "    }\n",
              "\n",
              "    .dataframe tbody tr th {\n",
              "        vertical-align: top;\n",
              "    }\n",
              "\n",
              "    .dataframe thead th {\n",
              "        text-align: right;\n",
              "    }\n",
              "</style>\n",
              "<table border=\"1\" class=\"dataframe\">\n",
              "  <thead>\n",
              "    <tr style=\"text-align: right;\">\n",
              "      <th></th>\n",
              "      <th>Postal code</th>\n",
              "      <th>date</th>\n",
              "      <th>n_daily_data_points</th>\n",
              "      <th>dayOfWeek</th>\n",
              "      <th>day_type</th>\n",
              "      <th>BlueCars_taken_sum</th>\n",
              "      <th>BlueCars_returned_sum</th>\n",
              "      <th>Utilib_taken_sum</th>\n",
              "      <th>Utilib_returned_sum</th>\n",
              "      <th>Utilib_14_taken_sum</th>\n",
              "      <th>Utilib_14_returned_sum</th>\n",
              "      <th>Slots_freed_sum</th>\n",
              "      <th>Slots_taken_sum</th>\n",
              "    </tr>\n",
              "  </thead>\n",
              "  <tbody>\n",
              "    <tr>\n",
              "      <th>0</th>\n",
              "      <td>75001</td>\n",
              "      <td>1/1/2018</td>\n",
              "      <td>1440</td>\n",
              "      <td>0</td>\n",
              "      <td>weekday</td>\n",
              "      <td>110</td>\n",
              "      <td>103</td>\n",
              "      <td>3</td>\n",
              "      <td>2</td>\n",
              "      <td>10</td>\n",
              "      <td>9</td>\n",
              "      <td>22</td>\n",
              "      <td>20</td>\n",
              "    </tr>\n",
              "    <tr>\n",
              "      <th>1</th>\n",
              "      <td>75001</td>\n",
              "      <td>1/2/2018</td>\n",
              "      <td>1438</td>\n",
              "      <td>1</td>\n",
              "      <td>weekday</td>\n",
              "      <td>98</td>\n",
              "      <td>94</td>\n",
              "      <td>1</td>\n",
              "      <td>1</td>\n",
              "      <td>8</td>\n",
              "      <td>8</td>\n",
              "      <td>23</td>\n",
              "      <td>22</td>\n",
              "    </tr>\n",
              "    <tr>\n",
              "      <th>2</th>\n",
              "      <td>75001</td>\n",
              "      <td>1/3/2018</td>\n",
              "      <td>1439</td>\n",
              "      <td>2</td>\n",
              "      <td>weekday</td>\n",
              "      <td>138</td>\n",
              "      <td>139</td>\n",
              "      <td>0</td>\n",
              "      <td>0</td>\n",
              "      <td>2</td>\n",
              "      <td>2</td>\n",
              "      <td>27</td>\n",
              "      <td>27</td>\n",
              "    </tr>\n",
              "    <tr>\n",
              "      <th>3</th>\n",
              "      <td>75001</td>\n",
              "      <td>1/4/2018</td>\n",
              "      <td>1320</td>\n",
              "      <td>3</td>\n",
              "      <td>weekday</td>\n",
              "      <td>104</td>\n",
              "      <td>104</td>\n",
              "      <td>2</td>\n",
              "      <td>2</td>\n",
              "      <td>9</td>\n",
              "      <td>8</td>\n",
              "      <td>25</td>\n",
              "      <td>21</td>\n",
              "    </tr>\n",
              "    <tr>\n",
              "      <th>4</th>\n",
              "      <td>75001</td>\n",
              "      <td>1/5/2018</td>\n",
              "      <td>1440</td>\n",
              "      <td>4</td>\n",
              "      <td>weekday</td>\n",
              "      <td>114</td>\n",
              "      <td>117</td>\n",
              "      <td>3</td>\n",
              "      <td>3</td>\n",
              "      <td>6</td>\n",
              "      <td>6</td>\n",
              "      <td>18</td>\n",
              "      <td>20</td>\n",
              "    </tr>\n",
              "    <tr>\n",
              "      <th>...</th>\n",
              "      <td>...</td>\n",
              "      <td>...</td>\n",
              "      <td>...</td>\n",
              "      <td>...</td>\n",
              "      <td>...</td>\n",
              "      <td>...</td>\n",
              "      <td>...</td>\n",
              "      <td>...</td>\n",
              "      <td>...</td>\n",
              "      <td>...</td>\n",
              "      <td>...</td>\n",
              "      <td>...</td>\n",
              "      <td>...</td>\n",
              "    </tr>\n",
              "    <tr>\n",
              "      <th>16080</th>\n",
              "      <td>95880</td>\n",
              "      <td>6/15/2018</td>\n",
              "      <td>1440</td>\n",
              "      <td>4</td>\n",
              "      <td>weekday</td>\n",
              "      <td>15</td>\n",
              "      <td>10</td>\n",
              "      <td>0</td>\n",
              "      <td>0</td>\n",
              "      <td>2</td>\n",
              "      <td>3</td>\n",
              "      <td>0</td>\n",
              "      <td>0</td>\n",
              "    </tr>\n",
              "    <tr>\n",
              "      <th>16081</th>\n",
              "      <td>95880</td>\n",
              "      <td>6/16/2018</td>\n",
              "      <td>1440</td>\n",
              "      <td>5</td>\n",
              "      <td>weekend</td>\n",
              "      <td>19</td>\n",
              "      <td>19</td>\n",
              "      <td>0</td>\n",
              "      <td>0</td>\n",
              "      <td>2</td>\n",
              "      <td>1</td>\n",
              "      <td>0</td>\n",
              "      <td>0</td>\n",
              "    </tr>\n",
              "    <tr>\n",
              "      <th>16082</th>\n",
              "      <td>95880</td>\n",
              "      <td>6/17/2018</td>\n",
              "      <td>1440</td>\n",
              "      <td>6</td>\n",
              "      <td>weekend</td>\n",
              "      <td>33</td>\n",
              "      <td>35</td>\n",
              "      <td>1</td>\n",
              "      <td>1</td>\n",
              "      <td>0</td>\n",
              "      <td>0</td>\n",
              "      <td>0</td>\n",
              "      <td>0</td>\n",
              "    </tr>\n",
              "    <tr>\n",
              "      <th>16083</th>\n",
              "      <td>95880</td>\n",
              "      <td>6/18/2018</td>\n",
              "      <td>1440</td>\n",
              "      <td>0</td>\n",
              "      <td>weekday</td>\n",
              "      <td>11</td>\n",
              "      <td>14</td>\n",
              "      <td>3</td>\n",
              "      <td>5</td>\n",
              "      <td>2</td>\n",
              "      <td>2</td>\n",
              "      <td>0</td>\n",
              "      <td>0</td>\n",
              "    </tr>\n",
              "    <tr>\n",
              "      <th>16084</th>\n",
              "      <td>95880</td>\n",
              "      <td>6/19/2018</td>\n",
              "      <td>1370</td>\n",
              "      <td>1</td>\n",
              "      <td>weekday</td>\n",
              "      <td>2</td>\n",
              "      <td>2</td>\n",
              "      <td>2</td>\n",
              "      <td>1</td>\n",
              "      <td>0</td>\n",
              "      <td>0</td>\n",
              "      <td>0</td>\n",
              "      <td>0</td>\n",
              "    </tr>\n",
              "  </tbody>\n",
              "</table>\n",
              "<p>16085 rows × 13 columns</p>\n",
              "</div>"
            ],
            "text/plain": [
              "       Postal code       date  ...  Slots_freed_sum  Slots_taken_sum\n",
              "0            75001   1/1/2018  ...               22               20\n",
              "1            75001   1/2/2018  ...               23               22\n",
              "2            75001   1/3/2018  ...               27               27\n",
              "3            75001   1/4/2018  ...               25               21\n",
              "4            75001   1/5/2018  ...               18               20\n",
              "...            ...        ...  ...              ...              ...\n",
              "16080        95880  6/15/2018  ...                0                0\n",
              "16081        95880  6/16/2018  ...                0                0\n",
              "16082        95880  6/17/2018  ...                0                0\n",
              "16083        95880  6/18/2018  ...                0                0\n",
              "16084        95880  6/19/2018  ...                0                0\n",
              "\n",
              "[16085 rows x 13 columns]"
            ]
          },
          "metadata": {
            "tags": []
          },
          "execution_count": 2
        }
      ]
    },
    {
      "cell_type": "code",
      "metadata": {
        "id": "bIx-6j096-BK",
        "colab_type": "code",
        "outputId": "0dd713fa-d51a-4034-a387-60ba7d1b4af1",
        "colab": {
          "base_uri": "https://localhost:8080/",
          "height": 354
        }
      },
      "source": [
        "df.info()\n",
        "#there are no null values in the dataframe\n",
        "df.duplicated().sum()\n",
        "#there are no duplicated values in the dataframe"
      ],
      "execution_count": 3,
      "outputs": [
        {
          "output_type": "stream",
          "text": [
            "<class 'pandas.core.frame.DataFrame'>\n",
            "RangeIndex: 16085 entries, 0 to 16084\n",
            "Data columns (total 13 columns):\n",
            "Postal code               16085 non-null int64\n",
            "date                      16085 non-null object\n",
            "n_daily_data_points       16085 non-null int64\n",
            "dayOfWeek                 16085 non-null int64\n",
            "day_type                  16085 non-null object\n",
            "BlueCars_taken_sum        16085 non-null int64\n",
            "BlueCars_returned_sum     16085 non-null int64\n",
            "Utilib_taken_sum          16085 non-null int64\n",
            "Utilib_returned_sum       16085 non-null int64\n",
            "Utilib_14_taken_sum       16085 non-null int64\n",
            "Utilib_14_returned_sum    16085 non-null int64\n",
            "Slots_freed_sum           16085 non-null int64\n",
            "Slots_taken_sum           16085 non-null int64\n",
            "dtypes: int64(11), object(2)\n",
            "memory usage: 1.6+ MB\n"
          ],
          "name": "stdout"
        },
        {
          "output_type": "execute_result",
          "data": {
            "text/plain": [
              "0"
            ]
          },
          "metadata": {
            "tags": []
          },
          "execution_count": 3
        }
      ]
    },
    {
      "cell_type": "code",
      "metadata": {
        "id": "hOBjMnAucCG3",
        "colab_type": "code",
        "outputId": "ccdf87d5-b1e4-47cc-d549-90ff0c936c8f",
        "colab": {
          "base_uri": "https://localhost:8080/",
          "height": 414
        }
      },
      "source": [
        "#getting the correlation matrix of the dataframe\n",
        "#the correlation of an element to itself is 1 thus the larger the value is as it approaches one means that the correlation is higher\n",
        "#between the two variables/elements.\n",
        "df.corr()"
      ],
      "execution_count": 4,
      "outputs": [
        {
          "output_type": "execute_result",
          "data": {
            "text/html": [
              "<div>\n",
              "<style scoped>\n",
              "    .dataframe tbody tr th:only-of-type {\n",
              "        vertical-align: middle;\n",
              "    }\n",
              "\n",
              "    .dataframe tbody tr th {\n",
              "        vertical-align: top;\n",
              "    }\n",
              "\n",
              "    .dataframe thead th {\n",
              "        text-align: right;\n",
              "    }\n",
              "</style>\n",
              "<table border=\"1\" class=\"dataframe\">\n",
              "  <thead>\n",
              "    <tr style=\"text-align: right;\">\n",
              "      <th></th>\n",
              "      <th>Postal code</th>\n",
              "      <th>n_daily_data_points</th>\n",
              "      <th>dayOfWeek</th>\n",
              "      <th>BlueCars_taken_sum</th>\n",
              "      <th>BlueCars_returned_sum</th>\n",
              "      <th>Utilib_taken_sum</th>\n",
              "      <th>Utilib_returned_sum</th>\n",
              "      <th>Utilib_14_taken_sum</th>\n",
              "      <th>Utilib_14_returned_sum</th>\n",
              "      <th>Slots_freed_sum</th>\n",
              "      <th>Slots_taken_sum</th>\n",
              "    </tr>\n",
              "  </thead>\n",
              "  <tbody>\n",
              "    <tr>\n",
              "      <th>Postal code</th>\n",
              "      <td>1.000000</td>\n",
              "      <td>0.000432</td>\n",
              "      <td>0.000343</td>\n",
              "      <td>-0.698020</td>\n",
              "      <td>-0.697519</td>\n",
              "      <td>-0.625521</td>\n",
              "      <td>-0.624786</td>\n",
              "      <td>-0.656744</td>\n",
              "      <td>-0.656516</td>\n",
              "      <td>-0.749528</td>\n",
              "      <td>-0.749157</td>\n",
              "    </tr>\n",
              "    <tr>\n",
              "      <th>n_daily_data_points</th>\n",
              "      <td>0.000432</td>\n",
              "      <td>1.000000</td>\n",
              "      <td>0.002039</td>\n",
              "      <td>0.029411</td>\n",
              "      <td>0.030063</td>\n",
              "      <td>0.022669</td>\n",
              "      <td>0.023322</td>\n",
              "      <td>0.025738</td>\n",
              "      <td>0.026351</td>\n",
              "      <td>0.020873</td>\n",
              "      <td>0.021169</td>\n",
              "    </tr>\n",
              "    <tr>\n",
              "      <th>dayOfWeek</th>\n",
              "      <td>0.000343</td>\n",
              "      <td>0.002039</td>\n",
              "      <td>1.000000</td>\n",
              "      <td>0.079649</td>\n",
              "      <td>0.081954</td>\n",
              "      <td>0.069295</td>\n",
              "      <td>0.071713</td>\n",
              "      <td>0.068790</td>\n",
              "      <td>0.071279</td>\n",
              "      <td>0.049960</td>\n",
              "      <td>0.050468</td>\n",
              "    </tr>\n",
              "    <tr>\n",
              "      <th>BlueCars_taken_sum</th>\n",
              "      <td>-0.698020</td>\n",
              "      <td>0.029411</td>\n",
              "      <td>0.079649</td>\n",
              "      <td>1.000000</td>\n",
              "      <td>0.998660</td>\n",
              "      <td>0.893833</td>\n",
              "      <td>0.892850</td>\n",
              "      <td>0.940946</td>\n",
              "      <td>0.940757</td>\n",
              "      <td>0.948575</td>\n",
              "      <td>0.947996</td>\n",
              "    </tr>\n",
              "    <tr>\n",
              "      <th>BlueCars_returned_sum</th>\n",
              "      <td>-0.697519</td>\n",
              "      <td>0.030063</td>\n",
              "      <td>0.081954</td>\n",
              "      <td>0.998660</td>\n",
              "      <td>1.000000</td>\n",
              "      <td>0.893613</td>\n",
              "      <td>0.893268</td>\n",
              "      <td>0.940542</td>\n",
              "      <td>0.941117</td>\n",
              "      <td>0.948258</td>\n",
              "      <td>0.948771</td>\n",
              "    </tr>\n",
              "    <tr>\n",
              "      <th>Utilib_taken_sum</th>\n",
              "      <td>-0.625521</td>\n",
              "      <td>0.022669</td>\n",
              "      <td>0.069295</td>\n",
              "      <td>0.893833</td>\n",
              "      <td>0.893613</td>\n",
              "      <td>1.000000</td>\n",
              "      <td>0.981982</td>\n",
              "      <td>0.847519</td>\n",
              "      <td>0.846304</td>\n",
              "      <td>0.853760</td>\n",
              "      <td>0.853049</td>\n",
              "    </tr>\n",
              "    <tr>\n",
              "      <th>Utilib_returned_sum</th>\n",
              "      <td>-0.624786</td>\n",
              "      <td>0.023322</td>\n",
              "      <td>0.071713</td>\n",
              "      <td>0.892850</td>\n",
              "      <td>0.893268</td>\n",
              "      <td>0.981982</td>\n",
              "      <td>1.000000</td>\n",
              "      <td>0.845645</td>\n",
              "      <td>0.845306</td>\n",
              "      <td>0.852939</td>\n",
              "      <td>0.852936</td>\n",
              "    </tr>\n",
              "    <tr>\n",
              "      <th>Utilib_14_taken_sum</th>\n",
              "      <td>-0.656744</td>\n",
              "      <td>0.025738</td>\n",
              "      <td>0.068790</td>\n",
              "      <td>0.940946</td>\n",
              "      <td>0.940542</td>\n",
              "      <td>0.847519</td>\n",
              "      <td>0.845645</td>\n",
              "      <td>1.000000</td>\n",
              "      <td>0.992062</td>\n",
              "      <td>0.899232</td>\n",
              "      <td>0.898719</td>\n",
              "    </tr>\n",
              "    <tr>\n",
              "      <th>Utilib_14_returned_sum</th>\n",
              "      <td>-0.656516</td>\n",
              "      <td>0.026351</td>\n",
              "      <td>0.071279</td>\n",
              "      <td>0.940757</td>\n",
              "      <td>0.941117</td>\n",
              "      <td>0.846304</td>\n",
              "      <td>0.845306</td>\n",
              "      <td>0.992062</td>\n",
              "      <td>1.000000</td>\n",
              "      <td>0.899442</td>\n",
              "      <td>0.899777</td>\n",
              "    </tr>\n",
              "    <tr>\n",
              "      <th>Slots_freed_sum</th>\n",
              "      <td>-0.749528</td>\n",
              "      <td>0.020873</td>\n",
              "      <td>0.049960</td>\n",
              "      <td>0.948575</td>\n",
              "      <td>0.948258</td>\n",
              "      <td>0.853760</td>\n",
              "      <td>0.852939</td>\n",
              "      <td>0.899232</td>\n",
              "      <td>0.899442</td>\n",
              "      <td>1.000000</td>\n",
              "      <td>0.999221</td>\n",
              "    </tr>\n",
              "    <tr>\n",
              "      <th>Slots_taken_sum</th>\n",
              "      <td>-0.749157</td>\n",
              "      <td>0.021169</td>\n",
              "      <td>0.050468</td>\n",
              "      <td>0.947996</td>\n",
              "      <td>0.948771</td>\n",
              "      <td>0.853049</td>\n",
              "      <td>0.852936</td>\n",
              "      <td>0.898719</td>\n",
              "      <td>0.899777</td>\n",
              "      <td>0.999221</td>\n",
              "      <td>1.000000</td>\n",
              "    </tr>\n",
              "  </tbody>\n",
              "</table>\n",
              "</div>"
            ],
            "text/plain": [
              "                        Postal code  ...  Slots_taken_sum\n",
              "Postal code                1.000000  ...        -0.749157\n",
              "n_daily_data_points        0.000432  ...         0.021169\n",
              "dayOfWeek                  0.000343  ...         0.050468\n",
              "BlueCars_taken_sum        -0.698020  ...         0.947996\n",
              "BlueCars_returned_sum     -0.697519  ...         0.948771\n",
              "Utilib_taken_sum          -0.625521  ...         0.853049\n",
              "Utilib_returned_sum       -0.624786  ...         0.852936\n",
              "Utilib_14_taken_sum       -0.656744  ...         0.898719\n",
              "Utilib_14_returned_sum    -0.656516  ...         0.899777\n",
              "Slots_freed_sum           -0.749528  ...         0.999221\n",
              "Slots_taken_sum           -0.749157  ...         1.000000\n",
              "\n",
              "[11 rows x 11 columns]"
            ]
          },
          "metadata": {
            "tags": []
          },
          "execution_count": 4
        }
      ]
    },
    {
      "cell_type": "markdown",
      "metadata": {
        "id": "AfDD1Ldk7Eu2",
        "colab_type": "text"
      },
      "source": [
        "# UNIVARIATE ANALYSIS"
      ]
    },
    {
      "cell_type": "markdown",
      "metadata": {
        "id": "5Fzah5fT5wOH",
        "colab_type": "text"
      },
      "source": [
        "## Postal Code \n",
        "postal code of the area (in Paris)"
      ]
    },
    {
      "cell_type": "code",
      "metadata": {
        "id": "jKzeEznKCe4z",
        "colab_type": "code",
        "outputId": "4fa8edb1-575f-49ea-c3a7-007c17b700f2",
        "colab": {
          "base_uri": "https://localhost:8080/",
          "height": 230
        }
      },
      "source": [
        "df['Postal code'].value_counts()"
      ],
      "execution_count": 6,
      "outputs": [
        {
          "output_type": "execute_result",
          "data": {
            "text/plain": [
              "94130    156\n",
              "92310    156\n",
              "78140    156\n",
              "94700    156\n",
              "95100    156\n",
              "        ... \n",
              "93150    151\n",
              "93370    149\n",
              "92340    147\n",
              "93200    126\n",
              "93390     84\n",
              "Name: Postal code, Length: 104, dtype: int64"
            ]
          },
          "metadata": {
            "tags": []
          },
          "execution_count": 6
        }
      ]
    },
    {
      "cell_type": "code",
      "metadata": {
        "id": "3ILQlvnc1dfQ",
        "colab_type": "code",
        "outputId": "ea24624b-533e-4c22-c231-8359251e55e7",
        "colab": {
          "base_uri": "https://localhost:8080/",
          "height": 230
        }
      },
      "source": [
        "#column 1\n",
        "df['Postal code'].unique()\n",
        "#df.groupby(df['Postal code']).sum()\n",
        "#df['Postal code'].value_counts()\n",
        "#there are 104 unique postal codes "
      ],
      "execution_count": 7,
      "outputs": [
        {
          "output_type": "execute_result",
          "data": {
            "text/plain": [
              "array([75001, 75002, 75003, 75004, 75005, 75006, 75007, 75008, 75009,\n",
              "       75010, 75011, 75012, 75013, 75014, 75015, 75016, 75017, 75018,\n",
              "       75019, 75020, 75112, 75116, 78000, 78140, 78150, 91330, 91370,\n",
              "       91400, 92000, 92100, 92110, 92120, 92130, 92140, 92150, 92160,\n",
              "       92170, 92190, 92200, 92210, 92220, 92230, 92240, 92250, 92260,\n",
              "       92270, 92290, 92300, 92310, 92320, 92330, 92340, 92350, 92360,\n",
              "       92370, 92380, 92390, 92400, 92410, 92420, 92500, 92600, 92700,\n",
              "       92800, 93100, 93110, 93130, 93150, 93170, 93200, 93230, 93260,\n",
              "       93300, 93310, 93350, 93360, 93370, 93390, 93400, 93440, 93500,\n",
              "       93600, 93700, 93800, 94000, 94100, 94110, 94120, 94130, 94140,\n",
              "       94150, 94160, 94220, 94230, 94300, 94340, 94410, 94450, 94500,\n",
              "       94700, 94800, 95100, 95870, 95880])"
            ]
          },
          "metadata": {
            "tags": []
          },
          "execution_count": 7
        }
      ]
    },
    {
      "cell_type": "code",
      "metadata": {
        "id": "GOk5JlGU-8QK",
        "colab_type": "code",
        "outputId": "b1b78190-f50c-4a35-fb5f-ff89f4027724",
        "colab": {
          "base_uri": "https://localhost:8080/",
          "height": 34
        }
      },
      "source": [
        "df['Postal code'].isnull().sum()\n",
        "#there are no null values in the postal code column"
      ],
      "execution_count": 0,
      "outputs": [
        {
          "output_type": "execute_result",
          "data": {
            "text/plain": [
              "0"
            ]
          },
          "metadata": {
            "tags": []
          },
          "execution_count": 76
        }
      ]
    },
    {
      "cell_type": "code",
      "metadata": {
        "id": "n0nFRelW-rko",
        "colab_type": "code",
        "outputId": "64ac97e6-897b-4114-c241-b493b20cc037",
        "colab": {
          "base_uri": "https://localhost:8080/",
          "height": 294
        }
      },
      "source": [
        "#Q-Q plot to show the distribution of the entries based on the postal codes.\n",
        "qqplot(df['Postal code'], line='s')\n",
        "pyplot.title('Q-Q Plot of the Postal Codes')\n",
        "pyplot.show()"
      ],
      "execution_count": 0,
      "outputs": [
        {
          "output_type": "display_data",
          "data": {
            "image/png": "[encoded data removed]",
            "text/plain": [
              "<Figure size 432x288 with 1 Axes>"
            ]
          },
          "metadata": {
            "tags": []
          }
        }
      ]
    },
    {
      "cell_type": "markdown",
      "metadata": {
        "id": "PHyfG-DtBeXZ",
        "colab_type": "text"
      },
      "source": [
        "## Date\n",
        "date of the row aggregation"
      ]
    },
    {
      "cell_type": "code",
      "metadata": {
        "id": "g7ChFz5ABjT-",
        "colab_type": "code",
        "outputId": "d21a67bd-2149-4ae0-f673-eeef8af573b8",
        "colab": {
          "base_uri": "https://localhost:8080/",
          "height": 105
        }
      },
      "source": [
        "\n",
        "df['date'].describe()\n",
        "#the datatype for the date is wrong and should be changed to date_time\n",
        "#there are 156 unique dates meaning that the data was taken over a period of 156 days\n",
        "#2nd January 2018 has the highest records"
      ],
      "execution_count": 0,
      "outputs": [
        {
          "output_type": "execute_result",
          "data": {
            "text/plain": [
              "count         16085\n",
              "unique          156\n",
              "top       4/30/2018\n",
              "freq            104\n",
              "Name: date, dtype: object"
            ]
          },
          "metadata": {
            "tags": []
          },
          "execution_count": 9
        }
      ]
    },
    {
      "cell_type": "code",
      "metadata": {
        "id": "CH5LsWwICaDg",
        "colab_type": "code",
        "outputId": "3a88f049-b348-4d6d-d509-20addb2bb301",
        "colab": {
          "base_uri": "https://localhost:8080/",
          "height": 141
        }
      },
      "source": [
        "#changing to date_time\n",
        "from datetime import datetime\n",
        "#first convert the date time into string \n",
        "df['date'] =  pd.to_datetime(df['date'])\n",
        "df['date'].describe()\n",
        "#the data records are from first January 2018 to 19th June 2018"
      ],
      "execution_count": 0,
      "outputs": [
        {
          "output_type": "execute_result",
          "data": {
            "text/plain": [
              "count                   16085\n",
              "unique                    156\n",
              "top       2018-06-12 00:00:00\n",
              "freq                      104\n",
              "first     2018-01-01 00:00:00\n",
              "last      2018-06-19 00:00:00\n",
              "Name: date, dtype: object"
            ]
          },
          "metadata": {
            "tags": []
          },
          "execution_count": 10
        }
      ]
    },
    {
      "cell_type": "markdown",
      "metadata": {
        "id": "fzQUeTIuBXuB",
        "colab_type": "text"
      },
      "source": [
        "## n_daily_data_points\n",
        "number of daily data points that were available for aggregation, that day"
      ]
    },
    {
      "cell_type": "code",
      "metadata": {
        "id": "nBbsJWQCBPsl",
        "colab_type": "code",
        "outputId": "53ec3cec-860a-49eb-fbdd-ed1b37ded140",
        "colab": {
          "base_uri": "https://localhost:8080/",
          "height": 70
        }
      },
      "source": [
        "\n",
        "df['n_daily_data_points'].unique()"
      ],
      "execution_count": 0,
      "outputs": [
        {
          "output_type": "execute_result",
          "data": {
            "text/plain": [
              "array([1440, 1438, 1439, 1320, 1437, 1434, 1398, 1420, 1425, 1396, 1429,\n",
              "       1389, 1380, 1364, 1318, 1377, 1203, 1417, 1435, 1174, 1436, 1411,\n",
              "       1370])"
            ]
          },
          "metadata": {
            "tags": []
          },
          "execution_count": 11
        }
      ]
    },
    {
      "cell_type": "code",
      "metadata": {
        "id": "AmWBtGsTMLpG",
        "colab_type": "code",
        "outputId": "9efc6ca1-f5b4-4d4b-d2e1-3c9c53b8540f",
        "colab": {
          "base_uri": "https://localhost:8080/",
          "height": 176
        }
      },
      "source": [
        "df['n_daily_data_points'].describe()\n",
        "#count    16085.000000\n",
        "#mean      1431.330619\n",
        "#std         33.212050\n",
        "#min       1174.000000\n",
        "#25%       1439.000000\n",
        "#50%       1440.000000\n",
        "#75%       1440.000000\n",
        "#max       1440.000000"
      ],
      "execution_count": 0,
      "outputs": [
        {
          "output_type": "execute_result",
          "data": {
            "text/plain": [
              "count    16085.000000\n",
              "mean      1431.330619\n",
              "std         33.212050\n",
              "min       1174.000000\n",
              "25%       1439.000000\n",
              "50%       1440.000000\n",
              "75%       1440.000000\n",
              "max       1440.000000\n",
              "Name: n_daily_data_points, dtype: float64"
            ]
          },
          "metadata": {
            "tags": []
          },
          "execution_count": 12
        }
      ]
    },
    {
      "cell_type": "code",
      "metadata": {
        "id": "9Ix1uKrGa66b",
        "colab_type": "code",
        "outputId": "081b5a9b-15b1-4523-ad75-74c32aca2c7e",
        "colab": {
          "base_uri": "https://localhost:8080/",
          "height": 281
        }
      },
      "source": [
        "#Histogram of the n_daily_data_points column\n",
        "pyplot.hist(df['n_daily_data_points'])\n",
        "pyplot.title('Histogram of the n_daily_data_points counts')\n",
        "pyplot.show()\n",
        "#the data is skewed \n",
        "#the highest number of data points is 1440"
      ],
      "execution_count": 0,
      "outputs": [
        {
          "output_type": "display_data",
          "data": {
            "image/png": "[encoded data removed]",
            "text/plain": [
              "<Figure size 432x288 with 1 Axes>"
            ]
          },
          "metadata": {
            "tags": []
          }
        }
      ]
    },
    {
      "cell_type": "code",
      "metadata": {
        "id": "RAYq6nSVbKbW",
        "colab_type": "code",
        "outputId": "171a5191-1f5d-4e22-9f1e-7edae685f907",
        "colab": {
          "base_uri": "https://localhost:8080/",
          "height": 294
        }
      },
      "source": [
        "#Q-Q plot to show the distribution of the entries based on the n_daily_data_points.\n",
        "qqplot(df['n_daily_data_points'], line='s')\n",
        "pyplot.title('Q-Q Plot of the n_daily_data_points')\n",
        "pyplot.show()\n",
        "#The data does not follow a normal distribution"
      ],
      "execution_count": 0,
      "outputs": [
        {
          "output_type": "display_data",
          "data": {
            "image/png": "[encoded data removed]",
            "text/plain": [
              "<Figure size 432x288 with 1 Axes>"
            ]
          },
          "metadata": {
            "tags": []
          }
        }
      ]
    },
    {
      "cell_type": "code",
      "metadata": {
        "id": "2o1nJ4ganMHx",
        "colab_type": "code",
        "outputId": "39c12bcb-6ab6-4007-e7b1-479c90a4ca0a",
        "colab": {
          "base_uri": "https://localhost:8080/",
          "height": 285
        }
      },
      "source": [
        "df.boxplot(column=['n_daily_data_points'])\n",
        "#pyplot.title('Box plot of n daily datapoints')"
      ],
      "execution_count": 0,
      "outputs": [
        {
          "output_type": "execute_result",
          "data": {
            "text/plain": [
              "<matplotlib.axes._subplots.AxesSubplot at 0x7fe3cc0ed240>"
            ]
          },
          "metadata": {
            "tags": []
          },
          "execution_count": 108
        },
        {
          "output_type": "display_data",
          "data": {
            "image/png": "[encoded data removed]",
            "text/plain": [
              "<Figure size 432x288 with 1 Axes>"
            ]
          },
          "metadata": {
            "tags": []
          }
        }
      ]
    },
    {
      "cell_type": "code",
      "metadata": {
        "id": "A9rARD4CgY1e",
        "colab_type": "code",
        "outputId": "55395a62-0265-44ef-8101-9a888d36d3fc",
        "colab": {
          "base_uri": "https://localhost:8080/",
          "height": 34
        }
      },
      "source": [
        "df['n_daily_data_points'].skew()\n",
        "#the data is skewed to the left\n",
        "#has a longer tail to the left of the distribution\n",
        "#outliers lie on this part of the"
      ],
      "execution_count": 0,
      "outputs": [
        {
          "output_type": "execute_result",
          "data": {
            "text/plain": [
              "-5.742776211517434"
            ]
          },
          "metadata": {
            "tags": []
          },
          "execution_count": 16
        }
      ]
    },
    {
      "cell_type": "markdown",
      "metadata": {
        "id": "010WsDcci6iF",
        "colab_type": "text"
      },
      "source": [
        "## Day Of Week\n",
        "identifier of weekday (0: Monday -> 6: Sunday)"
      ]
    },
    {
      "cell_type": "code",
      "metadata": {
        "id": "zd1gbFzNjC2I",
        "colab_type": "code",
        "outputId": "b47ba4e0-9abb-42f4-b40e-f5bc9abe3f90",
        "colab": {
          "base_uri": "https://localhost:8080/",
          "height": 34
        }
      },
      "source": [
        "df['dayOfWeek'].unique()\n",
        "#7 days of the week"
      ],
      "execution_count": 0,
      "outputs": [
        {
          "output_type": "execute_result",
          "data": {
            "text/plain": [
              "array([0, 1, 2, 3, 4, 5, 6])"
            ]
          },
          "metadata": {
            "tags": []
          },
          "execution_count": 17
        }
      ]
    },
    {
      "cell_type": "code",
      "metadata": {
        "id": "CEG8degWjYSH",
        "colab_type": "code",
        "outputId": "dab2f422-b8dd-4f11-cefd-4907498885e8",
        "colab": {
          "base_uri": "https://localhost:8080/",
          "height": 176
        }
      },
      "source": [
        "df['dayOfWeek'].describe()\n",
        "#75% of the data was recorded on saturday"
      ],
      "execution_count": 0,
      "outputs": [
        {
          "output_type": "execute_result",
          "data": {
            "text/plain": [
              "count    16085.000000\n",
              "mean         2.969599\n",
              "std          2.008378\n",
              "min          0.000000\n",
              "25%          1.000000\n",
              "50%          3.000000\n",
              "75%          5.000000\n",
              "max          6.000000\n",
              "Name: dayOfWeek, dtype: float64"
            ]
          },
          "metadata": {
            "tags": []
          },
          "execution_count": 18
        }
      ]
    },
    {
      "cell_type": "code",
      "metadata": {
        "id": "OM0-KDZYlbbU",
        "colab_type": "code",
        "outputId": "a4694223-bd9b-4905-c7cf-ca33e2d30623",
        "colab": {
          "base_uri": "https://localhost:8080/",
          "height": 324
        }
      },
      "source": [
        "df.groupby(df['dayOfWeek']).count()\n",
        "#the data distribution has a small variation with the values ranging from 2267 to 2374"
      ],
      "execution_count": 0,
      "outputs": [
        {
          "output_type": "execute_result",
          "data": {
            "text/html": [
              "<div>\n",
              "<style scoped>\n",
              "    .dataframe tbody tr th:only-of-type {\n",
              "        vertical-align: middle;\n",
              "    }\n",
              "\n",
              "    .dataframe tbody tr th {\n",
              "        vertical-align: top;\n",
              "    }\n",
              "\n",
              "    .dataframe thead th {\n",
              "        text-align: right;\n",
              "    }\n",
              "</style>\n",
              "<table border=\"1\" class=\"dataframe\">\n",
              "  <thead>\n",
              "    <tr style=\"text-align: right;\">\n",
              "      <th></th>\n",
              "      <th>Postal code</th>\n",
              "      <th>date</th>\n",
              "      <th>n_daily_data_points</th>\n",
              "      <th>day_type</th>\n",
              "      <th>BlueCars_taken_sum</th>\n",
              "      <th>BlueCars_returned_sum</th>\n",
              "      <th>Utilib_taken_sum</th>\n",
              "      <th>Utilib_returned_sum</th>\n",
              "      <th>Utilib_14_taken_sum</th>\n",
              "      <th>Utilib_14_returned_sum</th>\n",
              "      <th>Slots_freed_sum</th>\n",
              "      <th>Slots_taken_sum</th>\n",
              "    </tr>\n",
              "    <tr>\n",
              "      <th>dayOfWeek</th>\n",
              "      <th></th>\n",
              "      <th></th>\n",
              "      <th></th>\n",
              "      <th></th>\n",
              "      <th></th>\n",
              "      <th></th>\n",
              "      <th></th>\n",
              "      <th></th>\n",
              "      <th></th>\n",
              "      <th></th>\n",
              "      <th></th>\n",
              "      <th></th>\n",
              "    </tr>\n",
              "  </thead>\n",
              "  <tbody>\n",
              "    <tr>\n",
              "      <th>0</th>\n",
              "      <td>2374</td>\n",
              "      <td>2374</td>\n",
              "      <td>2374</td>\n",
              "      <td>2374</td>\n",
              "      <td>2374</td>\n",
              "      <td>2374</td>\n",
              "      <td>2374</td>\n",
              "      <td>2374</td>\n",
              "      <td>2374</td>\n",
              "      <td>2374</td>\n",
              "      <td>2374</td>\n",
              "      <td>2374</td>\n",
              "    </tr>\n",
              "    <tr>\n",
              "      <th>1</th>\n",
              "      <td>2363</td>\n",
              "      <td>2363</td>\n",
              "      <td>2363</td>\n",
              "      <td>2363</td>\n",
              "      <td>2363</td>\n",
              "      <td>2363</td>\n",
              "      <td>2363</td>\n",
              "      <td>2363</td>\n",
              "      <td>2363</td>\n",
              "      <td>2363</td>\n",
              "      <td>2363</td>\n",
              "      <td>2363</td>\n",
              "    </tr>\n",
              "    <tr>\n",
              "      <th>2</th>\n",
              "      <td>2268</td>\n",
              "      <td>2268</td>\n",
              "      <td>2268</td>\n",
              "      <td>2268</td>\n",
              "      <td>2268</td>\n",
              "      <td>2268</td>\n",
              "      <td>2268</td>\n",
              "      <td>2268</td>\n",
              "      <td>2268</td>\n",
              "      <td>2268</td>\n",
              "      <td>2268</td>\n",
              "      <td>2268</td>\n",
              "    </tr>\n",
              "    <tr>\n",
              "      <th>3</th>\n",
              "      <td>2268</td>\n",
              "      <td>2268</td>\n",
              "      <td>2268</td>\n",
              "      <td>2268</td>\n",
              "      <td>2268</td>\n",
              "      <td>2268</td>\n",
              "      <td>2268</td>\n",
              "      <td>2268</td>\n",
              "      <td>2268</td>\n",
              "      <td>2268</td>\n",
              "      <td>2268</td>\n",
              "      <td>2268</td>\n",
              "    </tr>\n",
              "    <tr>\n",
              "      <th>4</th>\n",
              "      <td>2271</td>\n",
              "      <td>2271</td>\n",
              "      <td>2271</td>\n",
              "      <td>2271</td>\n",
              "      <td>2271</td>\n",
              "      <td>2271</td>\n",
              "      <td>2271</td>\n",
              "      <td>2271</td>\n",
              "      <td>2271</td>\n",
              "      <td>2271</td>\n",
              "      <td>2271</td>\n",
              "      <td>2271</td>\n",
              "    </tr>\n",
              "    <tr>\n",
              "      <th>5</th>\n",
              "      <td>2267</td>\n",
              "      <td>2267</td>\n",
              "      <td>2267</td>\n",
              "      <td>2267</td>\n",
              "      <td>2267</td>\n",
              "      <td>2267</td>\n",
              "      <td>2267</td>\n",
              "      <td>2267</td>\n",
              "      <td>2267</td>\n",
              "      <td>2267</td>\n",
              "      <td>2267</td>\n",
              "      <td>2267</td>\n",
              "    </tr>\n",
              "    <tr>\n",
              "      <th>6</th>\n",
              "      <td>2274</td>\n",
              "      <td>2274</td>\n",
              "      <td>2274</td>\n",
              "      <td>2274</td>\n",
              "      <td>2274</td>\n",
              "      <td>2274</td>\n",
              "      <td>2274</td>\n",
              "      <td>2274</td>\n",
              "      <td>2274</td>\n",
              "      <td>2274</td>\n",
              "      <td>2274</td>\n",
              "      <td>2274</td>\n",
              "    </tr>\n",
              "  </tbody>\n",
              "</table>\n",
              "</div>"
            ],
            "text/plain": [
              "           Postal code  date  ...  Slots_freed_sum  Slots_taken_sum\n",
              "dayOfWeek                     ...                                  \n",
              "0                 2374  2374  ...             2374             2374\n",
              "1                 2363  2363  ...             2363             2363\n",
              "2                 2268  2268  ...             2268             2268\n",
              "3                 2268  2268  ...             2268             2268\n",
              "4                 2271  2271  ...             2271             2271\n",
              "5                 2267  2267  ...             2267             2267\n",
              "6                 2274  2274  ...             2274             2274\n",
              "\n",
              "[7 rows x 12 columns]"
            ]
          },
          "metadata": {
            "tags": []
          },
          "execution_count": 19
        }
      ]
    },
    {
      "cell_type": "code",
      "metadata": {
        "id": "jsbzn6gLdY8m",
        "colab_type": "code",
        "outputId": "4a53c993-f16e-4cdf-c665-509237235a11",
        "colab": {
          "base_uri": "https://localhost:8080/",
          "height": 280
        }
      },
      "source": [
        "df['dayOfWeek'].value_counts().plot(kind='bar')\n",
        "#plot of the data distribution for every day of the week.\n",
        "#the Distribution has minimal variation."
      ],
      "execution_count": 0,
      "outputs": [
        {
          "output_type": "execute_result",
          "data": {
            "text/plain": [
              "<matplotlib.axes._subplots.AxesSubplot at 0x7fe3cc6d1e80>"
            ]
          },
          "metadata": {
            "tags": []
          },
          "execution_count": 38
        },
        {
          "output_type": "display_data",
          "data": {
            "image/png": "[encoded data removed]",
            "text/plain": [
              "<Figure size 432x288 with 1 Axes>"
            ]
          },
          "metadata": {
            "tags": []
          }
        }
      ]
    },
    {
      "cell_type": "markdown",
      "metadata": {
        "id": "SoNLkdBvoGDS",
        "colab_type": "text"
      },
      "source": [
        "## Day Type\n",
        "Weekday or Weekend"
      ]
    },
    {
      "cell_type": "code",
      "metadata": {
        "id": "sQkesWYeoSfJ",
        "colab_type": "code",
        "outputId": "a3b052c0-abff-46ab-92ca-704ae140665a",
        "colab": {
          "base_uri": "https://localhost:8080/",
          "height": 320
        }
      },
      "source": [
        "df['day_type'].value_counts().plot(kind='bar')\n",
        "#plot of type of day of the week\n",
        "#there are more entries during the weekdays than there are on weekends"
      ],
      "execution_count": 9,
      "outputs": [
        {
          "output_type": "execute_result",
          "data": {
            "text/plain": [
              "<matplotlib.axes._subplots.AxesSubplot at 0x7f59d7789cc0>"
            ]
          },
          "metadata": {
            "tags": []
          },
          "execution_count": 9
        },
        {
          "output_type": "display_data",
          "data": {
            "image/png": "[encoded data removed]",
            "text/plain": [
              "<Figure size 432x288 with 1 Axes>"
            ]
          },
          "metadata": {
            "tags": []
          }
        }
      ]
    },
    {
      "cell_type": "markdown",
      "metadata": {
        "id": "Snv54IeKpOfX",
        "colab_type": "text"
      },
      "source": [
        "## Blue Cars "
      ]
    },
    {
      "cell_type": "code",
      "metadata": {
        "id": "2E57cUoHpd1t",
        "colab_type": "code",
        "outputId": "2b73de01-da5f-40d7-f9aa-42db51f145b1",
        "colab": {
          "base_uri": "https://localhost:8080/",
          "height": 176
        }
      },
      "source": [
        "#Blue Cars taken sum\n",
        "df['BlueCars_taken_sum'].describe()"
      ],
      "execution_count": 0,
      "outputs": [
        {
          "output_type": "execute_result",
          "data": {
            "text/plain": [
              "count    16085.000000\n",
              "mean       125.926951\n",
              "std        185.426579\n",
              "min          0.000000\n",
              "25%         20.000000\n",
              "50%         46.000000\n",
              "75%        135.000000\n",
              "max       1352.000000\n",
              "Name: BlueCars_taken_sum, dtype: float64"
            ]
          },
          "metadata": {
            "tags": []
          },
          "execution_count": 74
        }
      ]
    },
    {
      "cell_type": "code",
      "metadata": {
        "id": "mP0hmN4vJMB3",
        "colab_type": "code",
        "outputId": "3fc3294e-b793-4d48-ed0f-931b7f274a32",
        "colab": {
          "base_uri": "https://localhost:8080/",
          "height": 353
        }
      },
      "source": [
        "pyplot.hist(df['BlueCars_taken_sum'])\n",
        "#The data is right skewed"
      ],
      "execution_count": 0,
      "outputs": [
        {
          "output_type": "execute_result",
          "data": {
            "text/plain": [
              "(array([1.2077e+04, 1.4740e+03, 9.9900e+02, 7.6700e+02, 2.8800e+02,\n",
              "        2.7600e+02, 1.2700e+02, 5.0000e+01, 1.9000e+01, 8.0000e+00]),\n",
              " array([   0. ,  135.2,  270.4,  405.6,  540.8,  676. ,  811.2,  946.4,\n",
              "        1081.6, 1216.8, 1352. ]),\n",
              " <a list of 10 Patch objects>)"
            ]
          },
          "metadata": {
            "tags": []
          },
          "execution_count": 136
        },
        {
          "output_type": "display_data",
          "data": {
            "image/png": "[encoded data removed]",
            "text/plain": [
              "<Figure size 432x288 with 1 Axes>"
            ]
          },
          "metadata": {
            "tags": []
          }
        }
      ]
    },
    {
      "cell_type": "code",
      "metadata": {
        "id": "hr5wLilrlz6r",
        "colab_type": "code",
        "outputId": "f18a7a4a-e905-4148-e803-f7e815a9a482",
        "colab": {
          "base_uri": "https://localhost:8080/",
          "height": 278
        }
      },
      "source": [
        "#Bluecars taken distribution on a Q-Q plot\n",
        "qqplot(df['BlueCars_taken_sum'], line='s')\n",
        "pyplot.title(\"Q-Q Plot of the BlueCars_taken_sum\")\n",
        "pyplot.show()\n",
        "#Does not follow a normal distribution\n",
        "#The qqplot confirms that the data is skewed"
      ],
      "execution_count": 0,
      "outputs": [
        {
          "output_type": "display_data",
          "data": {
            "image/png": "[encoded data removed]",
            "text/plain": [
              "<Figure size 432x288 with 1 Axes>"
            ]
          },
          "metadata": {
            "tags": []
          }
        }
      ]
    },
    {
      "cell_type": "code",
      "metadata": {
        "id": "s5ZUvhRRDcPi",
        "colab_type": "code",
        "outputId": "6eef9e8d-178d-4549-e1a8-e2cfd2b8bd15",
        "colab": {
          "base_uri": "https://localhost:8080/",
          "height": 176
        }
      },
      "source": [
        "#Blue cars returned sum\n",
        "df['BlueCars_returned_sum'].describe()"
      ],
      "execution_count": 0,
      "outputs": [
        {
          "output_type": "execute_result",
          "data": {
            "text/plain": [
              "count    16085.000000\n",
              "mean       125.912714\n",
              "std        185.501535\n",
              "min          0.000000\n",
              "25%         20.000000\n",
              "50%         46.000000\n",
              "75%        135.000000\n",
              "max       1332.000000\n",
              "Name: BlueCars_returned_sum, dtype: float64"
            ]
          },
          "metadata": {
            "tags": []
          },
          "execution_count": 75
        }
      ]
    },
    {
      "cell_type": "code",
      "metadata": {
        "id": "uSYloWh-I9-8",
        "colab_type": "code",
        "colab": {
          "base_uri": "https://localhost:8080/",
          "height": 353
        },
        "outputId": "4aca6791-30d9-401e-efa8-efa86976640d"
      },
      "source": [
        "pyplot.hist(df['BlueCars_returned_sum'])"
      ],
      "execution_count": 55,
      "outputs": [
        {
          "output_type": "execute_result",
          "data": {
            "text/plain": [
              "(array([1.2036e+04, 1.4850e+03, 9.7600e+02, 7.8700e+02, 3.0100e+02,\n",
              "        2.7400e+02, 1.3400e+02, 6.2000e+01, 2.0000e+01, 1.0000e+01]),\n",
              " array([   0. ,  133.2,  266.4,  399.6,  532.8,  666. ,  799.2,  932.4,\n",
              "        1065.6, 1198.8, 1332. ]),\n",
              " <a list of 10 Patch objects>)"
            ]
          },
          "metadata": {
            "tags": []
          },
          "execution_count": 55
        },
        {
          "output_type": "display_data",
          "data": {
            "image/png": "[encoded data removed]",
            "text/plain": [
              "<Figure size 432x288 with 1 Axes>"
            ]
          },
          "metadata": {
            "tags": []
          }
        }
      ]
    },
    {
      "cell_type": "markdown",
      "metadata": {
        "id": "bOufjM-7pekC",
        "colab_type": "text"
      },
      "source": [
        "## Utilib"
      ]
    },
    {
      "cell_type": "code",
      "metadata": {
        "id": "Aa3_SvmAph2h",
        "colab_type": "code",
        "outputId": "798fc911-94ab-4eda-c34d-92d258170d47",
        "colab": {
          "base_uri": "https://localhost:8080/",
          "height": 176
        }
      },
      "source": [
        "#Utilib taken sum column\n",
        "df['Utilib_taken_sum'].describe()"
      ],
      "execution_count": 0,
      "outputs": [
        {
          "output_type": "execute_result",
          "data": {
            "text/plain": [
              "count    16085.000000\n",
              "mean         3.698290\n",
              "std          5.815058\n",
              "min          0.000000\n",
              "25%          0.000000\n",
              "50%          1.000000\n",
              "75%          4.000000\n",
              "max         54.000000\n",
              "Name: Utilib_taken_sum, dtype: float64"
            ]
          },
          "metadata": {
            "tags": []
          },
          "execution_count": 76
        }
      ]
    },
    {
      "cell_type": "code",
      "metadata": {
        "id": "DUSrletUF14b",
        "colab_type": "code",
        "outputId": "ed5d8c18-8ae9-41e5-c0cf-2d077001db3f",
        "colab": {
          "base_uri": "https://localhost:8080/",
          "height": 176
        }
      },
      "source": [
        "#Utilib returned sum column\n",
        "df['Utilib_returned_sum'].describe()"
      ],
      "execution_count": 0,
      "outputs": [
        {
          "output_type": "execute_result",
          "data": {
            "text/plain": [
              "count    16085.000000\n",
              "mean         3.699099\n",
              "std          5.824634\n",
              "min          0.000000\n",
              "25%          0.000000\n",
              "50%          1.000000\n",
              "75%          4.000000\n",
              "max         58.000000\n",
              "Name: Utilib_returned_sum, dtype: float64"
            ]
          },
          "metadata": {
            "tags": []
          },
          "execution_count": 109
        }
      ]
    },
    {
      "cell_type": "markdown",
      "metadata": {
        "id": "onkN5hugpkSf",
        "colab_type": "text"
      },
      "source": [
        "## Utilib 14"
      ]
    },
    {
      "cell_type": "code",
      "metadata": {
        "id": "Lqe6yAd5pTph",
        "colab_type": "code",
        "outputId": "cd21f12f-1362-4176-ba97-e2b4e76cda87",
        "colab": {
          "base_uri": "https://localhost:8080/",
          "height": 176
        }
      },
      "source": [
        "#Utilib 14 taken sum\n",
        "df['Utilib_14_taken_sum'].describe()"
      ],
      "execution_count": 0,
      "outputs": [
        {
          "output_type": "execute_result",
          "data": {
            "text/plain": [
              "count    16085.000000\n",
              "mean         8.600560\n",
              "std         12.870098\n",
              "min          0.000000\n",
              "25%          1.000000\n",
              "50%          3.000000\n",
              "75%         10.000000\n",
              "max        100.000000\n",
              "Name: Utilib_14_taken_sum, dtype: float64"
            ]
          },
          "metadata": {
            "tags": []
          },
          "execution_count": 78
        }
      ]
    },
    {
      "cell_type": "code",
      "metadata": {
        "id": "meDeV4YwpoKy",
        "colab_type": "code",
        "outputId": "2e911666-384a-4269-b3f7-a0f7c22af347",
        "colab": {
          "base_uri": "https://localhost:8080/",
          "height": 176
        }
      },
      "source": [
        "#Utilib 14 returned sum\n",
        "df['BlueCars_returned_sum'].describe()"
      ],
      "execution_count": 0,
      "outputs": [
        {
          "output_type": "execute_result",
          "data": {
            "text/plain": [
              "count    16085.000000\n",
              "mean       125.912714\n",
              "std        185.501535\n",
              "min          0.000000\n",
              "25%         20.000000\n",
              "50%         46.000000\n",
              "75%        135.000000\n",
              "max       1332.000000\n",
              "Name: BlueCars_returned_sum, dtype: float64"
            ]
          },
          "metadata": {
            "tags": []
          },
          "execution_count": 110
        }
      ]
    },
    {
      "cell_type": "markdown",
      "metadata": {
        "id": "HrZ3aExPyksc",
        "colab_type": "text"
      },
      "source": [
        "## Slots\n",
        "the number of charging slots that were free in that area"
      ]
    },
    {
      "cell_type": "code",
      "metadata": {
        "id": "Tp2CgllrypRF",
        "colab_type": "code",
        "outputId": "fbf41e05-b9c5-405a-e4ab-ccc6f540b571",
        "colab": {
          "base_uri": "https://localhost:8080/",
          "height": 176
        }
      },
      "source": [
        "#Slots_freed_sum column\n",
        "df['Slots_freed_sum'].describe()"
      ],
      "execution_count": 0,
      "outputs": [
        {
          "output_type": "execute_result",
          "data": {
            "text/plain": [
              "count    16085.000000\n",
              "mean        22.629033\n",
              "std         52.120263\n",
              "min          0.000000\n",
              "25%          0.000000\n",
              "50%          0.000000\n",
              "75%          5.000000\n",
              "max        360.000000\n",
              "Name: Slots_freed_sum, dtype: float64"
            ]
          },
          "metadata": {
            "tags": []
          },
          "execution_count": 113
        }
      ]
    },
    {
      "cell_type": "code",
      "metadata": {
        "id": "aHf3si_QzEva",
        "colab_type": "code",
        "outputId": "e7736556-df4b-4ed5-f620-45de834d7d7c",
        "colab": {
          "base_uri": "https://localhost:8080/",
          "height": 335
        }
      },
      "source": [
        "pyplot.hist(df['Slots_freed_sum'])\n",
        "#were mostly zero meaning that most of the charging slots were not free"
      ],
      "execution_count": 0,
      "outputs": [
        {
          "output_type": "execute_result",
          "data": {
            "text/plain": [
              "(array([1.3274e+04, 6.0800e+02, 6.4300e+02, 6.8100e+02, 4.0300e+02,\n",
              "        2.6400e+02, 1.3200e+02, 5.5000e+01, 1.8000e+01, 7.0000e+00]),\n",
              " array([  0.,  36.,  72., 108., 144., 180., 216., 252., 288., 324., 360.]),\n",
              " <a list of 10 Patch objects>)"
            ]
          },
          "metadata": {
            "tags": []
          },
          "execution_count": 114
        },
        {
          "output_type": "display_data",
          "data": {
            "image/png": "[encoded data removed]",
            "text/plain": [
              "<Figure size 432x288 with 1 Axes>"
            ]
          },
          "metadata": {
            "tags": []
          }
        }
      ]
    },
    {
      "cell_type": "code",
      "metadata": {
        "id": "2NF9byajy2gp",
        "colab_type": "code",
        "outputId": "963f5eb1-d2ce-4059-b39a-56147167bffc",
        "colab": {
          "base_uri": "https://localhost:8080/",
          "height": 176
        }
      },
      "source": [
        "#Slots_taken_sum column\n",
        "df['Slots_taken_sum'].describe()"
      ],
      "execution_count": 0,
      "outputs": [
        {
          "output_type": "execute_result",
          "data": {
            "text/plain": [
              "count    16085.000000\n",
              "mean        22.629282\n",
              "std         52.146030\n",
              "min          0.000000\n",
              "25%          0.000000\n",
              "50%          0.000000\n",
              "75%          5.000000\n",
              "max        359.000000\n",
              "Name: Slots_taken_sum, dtype: float64"
            ]
          },
          "metadata": {
            "tags": []
          },
          "execution_count": 116
        }
      ]
    },
    {
      "cell_type": "code",
      "metadata": {
        "id": "2V3Mi1wKz-RG",
        "colab_type": "code",
        "outputId": "8e58ce01-8829-4769-f828-bf51d4106c9f",
        "colab": {
          "base_uri": "https://localhost:8080/",
          "height": 353
        }
      },
      "source": [
        "pyplot.hist(df['Slots_taken_sum'])\n",
        "#were mostly zero meaning that most of the charging slots were not taken"
      ],
      "execution_count": 0,
      "outputs": [
        {
          "output_type": "execute_result",
          "data": {
            "text/plain": [
              "(array([1.327e+04, 6.080e+02, 6.560e+02, 6.620e+02, 4.150e+02, 2.720e+02,\n",
              "        1.240e+02, 5.100e+01, 1.900e+01, 8.000e+00]),\n",
              " array([  0. ,  35.9,  71.8, 107.7, 143.6, 179.5, 215.4, 251.3, 287.2,\n",
              "        323.1, 359. ]),\n",
              " <a list of 10 Patch objects>)"
            ]
          },
          "metadata": {
            "tags": []
          },
          "execution_count": 117
        },
        {
          "output_type": "display_data",
          "data": {
            "image/png": "[encoded data removed]",
            "text/plain": [
              "<Figure size 432x288 with 1 Axes>"
            ]
          },
          "metadata": {
            "tags": []
          }
        }
      ]
    },
    {
      "cell_type": "markdown",
      "metadata": {
        "id": "Sx4LR4-1bkBH",
        "colab_type": "text"
      },
      "source": [
        "# DATA CLEANING"
      ]
    },
    {
      "cell_type": "markdown",
      "metadata": {
        "id": "S_fh2APn3Iqj",
        "colab_type": "text"
      },
      "source": [
        "### Validity"
      ]
    },
    {
      "cell_type": "code",
      "metadata": {
        "id": "Pqe3k9iC3V2O",
        "colab_type": "code",
        "outputId": "1ff8e408-a575-4374-81ba-a57053a4a854",
        "colab": {
          "base_uri": "https://localhost:8080/",
          "height": 443
        }
      },
      "source": [
        "#The claim we are investigating is for the Blue cars only thus we drop utilib and utilib 14 columns\n",
        "df_1 = df.drop(axis= 1, columns=['Utilib_taken_sum','Utilib_returned_sum','Utilib_14_taken_sum','Utilib_14_returned_sum',])\n",
        "df_1"
      ],
      "execution_count": 5,
      "outputs": [
        {
          "output_type": "execute_result",
          "data": {
            "text/html": [
              "<div>\n",
              "<style scoped>\n",
              "    .dataframe tbody tr th:only-of-type {\n",
              "        vertical-align: middle;\n",
              "    }\n",
              "\n",
              "    .dataframe tbody tr th {\n",
              "        vertical-align: top;\n",
              "    }\n",
              "\n",
              "    .dataframe thead th {\n",
              "        text-align: right;\n",
              "    }\n",
              "</style>\n",
              "<table border=\"1\" class=\"dataframe\">\n",
              "  <thead>\n",
              "    <tr style=\"text-align: right;\">\n",
              "      <th></th>\n",
              "      <th>Postal code</th>\n",
              "      <th>date</th>\n",
              "      <th>n_daily_data_points</th>\n",
              "      <th>dayOfWeek</th>\n",
              "      <th>day_type</th>\n",
              "      <th>BlueCars_taken_sum</th>\n",
              "      <th>BlueCars_returned_sum</th>\n",
              "      <th>Slots_freed_sum</th>\n",
              "      <th>Slots_taken_sum</th>\n",
              "    </tr>\n",
              "  </thead>\n",
              "  <tbody>\n",
              "    <tr>\n",
              "      <th>0</th>\n",
              "      <td>75001</td>\n",
              "      <td>1/1/2018</td>\n",
              "      <td>1440</td>\n",
              "      <td>0</td>\n",
              "      <td>weekday</td>\n",
              "      <td>110</td>\n",
              "      <td>103</td>\n",
              "      <td>22</td>\n",
              "      <td>20</td>\n",
              "    </tr>\n",
              "    <tr>\n",
              "      <th>1</th>\n",
              "      <td>75001</td>\n",
              "      <td>1/2/2018</td>\n",
              "      <td>1438</td>\n",
              "      <td>1</td>\n",
              "      <td>weekday</td>\n",
              "      <td>98</td>\n",
              "      <td>94</td>\n",
              "      <td>23</td>\n",
              "      <td>22</td>\n",
              "    </tr>\n",
              "    <tr>\n",
              "      <th>2</th>\n",
              "      <td>75001</td>\n",
              "      <td>1/3/2018</td>\n",
              "      <td>1439</td>\n",
              "      <td>2</td>\n",
              "      <td>weekday</td>\n",
              "      <td>138</td>\n",
              "      <td>139</td>\n",
              "      <td>27</td>\n",
              "      <td>27</td>\n",
              "    </tr>\n",
              "    <tr>\n",
              "      <th>3</th>\n",
              "      <td>75001</td>\n",
              "      <td>1/4/2018</td>\n",
              "      <td>1320</td>\n",
              "      <td>3</td>\n",
              "      <td>weekday</td>\n",
              "      <td>104</td>\n",
              "      <td>104</td>\n",
              "      <td>25</td>\n",
              "      <td>21</td>\n",
              "    </tr>\n",
              "    <tr>\n",
              "      <th>4</th>\n",
              "      <td>75001</td>\n",
              "      <td>1/5/2018</td>\n",
              "      <td>1440</td>\n",
              "      <td>4</td>\n",
              "      <td>weekday</td>\n",
              "      <td>114</td>\n",
              "      <td>117</td>\n",
              "      <td>18</td>\n",
              "      <td>20</td>\n",
              "    </tr>\n",
              "    <tr>\n",
              "      <th>...</th>\n",
              "      <td>...</td>\n",
              "      <td>...</td>\n",
              "      <td>...</td>\n",
              "      <td>...</td>\n",
              "      <td>...</td>\n",
              "      <td>...</td>\n",
              "      <td>...</td>\n",
              "      <td>...</td>\n",
              "      <td>...</td>\n",
              "    </tr>\n",
              "    <tr>\n",
              "      <th>16080</th>\n",
              "      <td>95880</td>\n",
              "      <td>6/15/2018</td>\n",
              "      <td>1440</td>\n",
              "      <td>4</td>\n",
              "      <td>weekday</td>\n",
              "      <td>15</td>\n",
              "      <td>10</td>\n",
              "      <td>0</td>\n",
              "      <td>0</td>\n",
              "    </tr>\n",
              "    <tr>\n",
              "      <th>16081</th>\n",
              "      <td>95880</td>\n",
              "      <td>6/16/2018</td>\n",
              "      <td>1440</td>\n",
              "      <td>5</td>\n",
              "      <td>weekend</td>\n",
              "      <td>19</td>\n",
              "      <td>19</td>\n",
              "      <td>0</td>\n",
              "      <td>0</td>\n",
              "    </tr>\n",
              "    <tr>\n",
              "      <th>16082</th>\n",
              "      <td>95880</td>\n",
              "      <td>6/17/2018</td>\n",
              "      <td>1440</td>\n",
              "      <td>6</td>\n",
              "      <td>weekend</td>\n",
              "      <td>33</td>\n",
              "      <td>35</td>\n",
              "      <td>0</td>\n",
              "      <td>0</td>\n",
              "    </tr>\n",
              "    <tr>\n",
              "      <th>16083</th>\n",
              "      <td>95880</td>\n",
              "      <td>6/18/2018</td>\n",
              "      <td>1440</td>\n",
              "      <td>0</td>\n",
              "      <td>weekday</td>\n",
              "      <td>11</td>\n",
              "      <td>14</td>\n",
              "      <td>0</td>\n",
              "      <td>0</td>\n",
              "    </tr>\n",
              "    <tr>\n",
              "      <th>16084</th>\n",
              "      <td>95880</td>\n",
              "      <td>6/19/2018</td>\n",
              "      <td>1370</td>\n",
              "      <td>1</td>\n",
              "      <td>weekday</td>\n",
              "      <td>2</td>\n",
              "      <td>2</td>\n",
              "      <td>0</td>\n",
              "      <td>0</td>\n",
              "    </tr>\n",
              "  </tbody>\n",
              "</table>\n",
              "<p>16085 rows × 9 columns</p>\n",
              "</div>"
            ],
            "text/plain": [
              "       Postal code       date  ...  Slots_freed_sum  Slots_taken_sum\n",
              "0            75001   1/1/2018  ...               22               20\n",
              "1            75001   1/2/2018  ...               23               22\n",
              "2            75001   1/3/2018  ...               27               27\n",
              "3            75001   1/4/2018  ...               25               21\n",
              "4            75001   1/5/2018  ...               18               20\n",
              "...            ...        ...  ...              ...              ...\n",
              "16080        95880  6/15/2018  ...                0                0\n",
              "16081        95880  6/16/2018  ...                0                0\n",
              "16082        95880  6/17/2018  ...                0                0\n",
              "16083        95880  6/18/2018  ...                0                0\n",
              "16084        95880  6/19/2018  ...                0                0\n",
              "\n",
              "[16085 rows x 9 columns]"
            ]
          },
          "metadata": {
            "tags": []
          },
          "execution_count": 5
        }
      ]
    },
    {
      "cell_type": "code",
      "metadata": {
        "id": "yS9jnlrMdEIB",
        "colab_type": "code",
        "colab": {
          "base_uri": "https://localhost:8080/",
          "height": 34
        },
        "outputId": "26fdf472-c0db-4400-b9d8-b43cffd88fd9"
      },
      "source": [
        "df_1.shape"
      ],
      "execution_count": 6,
      "outputs": [
        {
          "output_type": "execute_result",
          "data": {
            "text/plain": [
              "(16085, 9)"
            ]
          },
          "metadata": {
            "tags": []
          },
          "execution_count": 6
        }
      ]
    },
    {
      "cell_type": "markdown",
      "metadata": {
        "id": "4Tnvh8gC3ZVv",
        "colab_type": "text"
      },
      "source": [
        "### Accuracy"
      ]
    },
    {
      "cell_type": "code",
      "metadata": {
        "id": "in0aJojm3VaJ",
        "colab_type": "code",
        "outputId": "123ce192-773c-4cee-f3db-a0dd17064705",
        "colab": {
          "base_uri": "https://localhost:8080/",
          "height": 313
        }
      },
      "source": [
        "#Checking for outliers\n",
        "sns.boxplot(x = df_1['BlueCars_taken_sum'])\n",
        "pyplot.title('Boxplot of BlueCars_taken_sum')\n",
        "#boxplot of the Blue cars taken\n",
        "#There are outliers in the data since the data is right skewed"
      ],
      "execution_count": 68,
      "outputs": [
        {
          "output_type": "execute_result",
          "data": {
            "text/plain": [
              "Text(0.5, 1.0, 'Boxplot of BlueCars_taken_sum')"
            ]
          },
          "metadata": {
            "tags": []
          },
          "execution_count": 68
        },
        {
          "output_type": "display_data",
          "data": {
            "image/png": "[encoded data removed]",
            "text/plain": [
              "<Figure size 432x288 with 1 Axes>"
            ]
          },
          "metadata": {
            "tags": []
          }
        }
      ]
    },
    {
      "cell_type": "code",
      "metadata": {
        "id": "9E91pq05Z-qn",
        "colab_type": "code",
        "colab": {
          "base_uri": "https://localhost:8080/",
          "height": 52
        },
        "outputId": "9343370c-e060-456b-e1de-b08250c37cc6"
      },
      "source": [
        "from scipy import stats\n",
        "z = np.abs(stats.zscore(df_1['BlueCars_taken_sum']))\n",
        "z"
      ],
      "execution_count": 70,
      "outputs": [
        {
          "output_type": "execute_result",
          "data": {
            "text/plain": [
              "array([0.08589624, 0.15061389, 0.06511162, ..., 0.50116785, 0.61981688,\n",
              "       0.66835512])"
            ]
          },
          "metadata": {
            "tags": []
          },
          "execution_count": 70
        }
      ]
    },
    {
      "cell_type": "code",
      "metadata": {
        "id": "PH0okVvXggGS",
        "colab_type": "code",
        "colab": {
          "base_uri": "https://localhost:8080/",
          "height": 34
        },
        "outputId": "c7042a8a-1fcf-42e7-e1d5-ec339f6bc339"
      },
      "source": [
        "threshold = -3, 3\n",
        "print(np.where(z > -3) or np.where(z < 3))"
      ],
      "execution_count": 71,
      "outputs": [
        {
          "output_type": "stream",
          "text": [
            "(array([    0,     1,     2, ..., 16082, 16083, 16084]),)\n"
          ],
          "name": "stdout"
        }
      ]
    },
    {
      "cell_type": "code",
      "metadata": {
        "id": "ZT6yG2yhjwp7",
        "colab_type": "code",
        "colab": {
          "base_uri": "https://localhost:8080/",
          "height": 34
        },
        "outputId": "0f878454-539d-4574-ab91-97e32e2e6c1e"
      },
      "source": [
        "Q1 =  df_1['BlueCars_taken_sum'].quantile(0.25)\n",
        "Q3 = df_1['BlueCars_taken_sum'].quantile(0.75)\n",
        "IQR = Q3 - Q1\n",
        "df_1[(df_1['BlueCars_taken_sum'] < Q1-1.5*IQR ) | (df_1['BlueCars_taken_sum'] > Q3+1.5*IQR)]['BlueCars_taken_sum'].count()\n",
        "#there are 2215 outliers in the data based on the BlueCars_taken_sum column"
      ],
      "execution_count": 72,
      "outputs": [
        {
          "output_type": "execute_result",
          "data": {
            "text/plain": [
              "2215"
            ]
          },
          "metadata": {
            "tags": []
          },
          "execution_count": 72
        }
      ]
    },
    {
      "cell_type": "code",
      "metadata": {
        "id": "p99pINryp0n6",
        "colab_type": "code",
        "colab": {
          "base_uri": "https://localhost:8080/",
          "height": 443
        },
        "outputId": "18694caa-056f-43f9-b44d-2e35fc2e69cf"
      },
      "source": [
        "#Dropping the outliers\n",
        "filter = (df_1['BlueCars_taken_sum'] >= Q1 - 1.5 * IQR) & (df_1['BlueCars_taken_sum'] <= Q3 + 1.5 *IQR)\n",
        "df_2 = df_1.loc[filter]  \n",
        "df_2\n",
        "#2215 row entries have been dropped"
      ],
      "execution_count": 73,
      "outputs": [
        {
          "output_type": "execute_result",
          "data": {
            "text/html": [
              "<div>\n",
              "<style scoped>\n",
              "    .dataframe tbody tr th:only-of-type {\n",
              "        vertical-align: middle;\n",
              "    }\n",
              "\n",
              "    .dataframe tbody tr th {\n",
              "        vertical-align: top;\n",
              "    }\n",
              "\n",
              "    .dataframe thead th {\n",
              "        text-align: right;\n",
              "    }\n",
              "</style>\n",
              "<table border=\"1\" class=\"dataframe\">\n",
              "  <thead>\n",
              "    <tr style=\"text-align: right;\">\n",
              "      <th></th>\n",
              "      <th>Postal code</th>\n",
              "      <th>date</th>\n",
              "      <th>n_daily_data_points</th>\n",
              "      <th>dayOfWeek</th>\n",
              "      <th>day_type</th>\n",
              "      <th>BlueCars_taken_sum</th>\n",
              "      <th>BlueCars_returned_sum</th>\n",
              "      <th>Slots_freed_sum</th>\n",
              "      <th>Slots_taken_sum</th>\n",
              "    </tr>\n",
              "  </thead>\n",
              "  <tbody>\n",
              "    <tr>\n",
              "      <th>0</th>\n",
              "      <td>75001</td>\n",
              "      <td>1/1/2018</td>\n",
              "      <td>1440</td>\n",
              "      <td>0</td>\n",
              "      <td>weekday</td>\n",
              "      <td>110</td>\n",
              "      <td>103</td>\n",
              "      <td>22</td>\n",
              "      <td>20</td>\n",
              "    </tr>\n",
              "    <tr>\n",
              "      <th>1</th>\n",
              "      <td>75001</td>\n",
              "      <td>1/2/2018</td>\n",
              "      <td>1438</td>\n",
              "      <td>1</td>\n",
              "      <td>weekday</td>\n",
              "      <td>98</td>\n",
              "      <td>94</td>\n",
              "      <td>23</td>\n",
              "      <td>22</td>\n",
              "    </tr>\n",
              "    <tr>\n",
              "      <th>2</th>\n",
              "      <td>75001</td>\n",
              "      <td>1/3/2018</td>\n",
              "      <td>1439</td>\n",
              "      <td>2</td>\n",
              "      <td>weekday</td>\n",
              "      <td>138</td>\n",
              "      <td>139</td>\n",
              "      <td>27</td>\n",
              "      <td>27</td>\n",
              "    </tr>\n",
              "    <tr>\n",
              "      <th>3</th>\n",
              "      <td>75001</td>\n",
              "      <td>1/4/2018</td>\n",
              "      <td>1320</td>\n",
              "      <td>3</td>\n",
              "      <td>weekday</td>\n",
              "      <td>104</td>\n",
              "      <td>104</td>\n",
              "      <td>25</td>\n",
              "      <td>21</td>\n",
              "    </tr>\n",
              "    <tr>\n",
              "      <th>4</th>\n",
              "      <td>75001</td>\n",
              "      <td>1/5/2018</td>\n",
              "      <td>1440</td>\n",
              "      <td>4</td>\n",
              "      <td>weekday</td>\n",
              "      <td>114</td>\n",
              "      <td>117</td>\n",
              "      <td>18</td>\n",
              "      <td>20</td>\n",
              "    </tr>\n",
              "    <tr>\n",
              "      <th>...</th>\n",
              "      <td>...</td>\n",
              "      <td>...</td>\n",
              "      <td>...</td>\n",
              "      <td>...</td>\n",
              "      <td>...</td>\n",
              "      <td>...</td>\n",
              "      <td>...</td>\n",
              "      <td>...</td>\n",
              "      <td>...</td>\n",
              "    </tr>\n",
              "    <tr>\n",
              "      <th>16080</th>\n",
              "      <td>95880</td>\n",
              "      <td>6/15/2018</td>\n",
              "      <td>1440</td>\n",
              "      <td>4</td>\n",
              "      <td>weekday</td>\n",
              "      <td>15</td>\n",
              "      <td>10</td>\n",
              "      <td>0</td>\n",
              "      <td>0</td>\n",
              "    </tr>\n",
              "    <tr>\n",
              "      <th>16081</th>\n",
              "      <td>95880</td>\n",
              "      <td>6/16/2018</td>\n",
              "      <td>1440</td>\n",
              "      <td>5</td>\n",
              "      <td>weekend</td>\n",
              "      <td>19</td>\n",
              "      <td>19</td>\n",
              "      <td>0</td>\n",
              "      <td>0</td>\n",
              "    </tr>\n",
              "    <tr>\n",
              "      <th>16082</th>\n",
              "      <td>95880</td>\n",
              "      <td>6/17/2018</td>\n",
              "      <td>1440</td>\n",
              "      <td>6</td>\n",
              "      <td>weekend</td>\n",
              "      <td>33</td>\n",
              "      <td>35</td>\n",
              "      <td>0</td>\n",
              "      <td>0</td>\n",
              "    </tr>\n",
              "    <tr>\n",
              "      <th>16083</th>\n",
              "      <td>95880</td>\n",
              "      <td>6/18/2018</td>\n",
              "      <td>1440</td>\n",
              "      <td>0</td>\n",
              "      <td>weekday</td>\n",
              "      <td>11</td>\n",
              "      <td>14</td>\n",
              "      <td>0</td>\n",
              "      <td>0</td>\n",
              "    </tr>\n",
              "    <tr>\n",
              "      <th>16084</th>\n",
              "      <td>95880</td>\n",
              "      <td>6/19/2018</td>\n",
              "      <td>1370</td>\n",
              "      <td>1</td>\n",
              "      <td>weekday</td>\n",
              "      <td>2</td>\n",
              "      <td>2</td>\n",
              "      <td>0</td>\n",
              "      <td>0</td>\n",
              "    </tr>\n",
              "  </tbody>\n",
              "</table>\n",
              "<p>13870 rows × 9 columns</p>\n",
              "</div>"
            ],
            "text/plain": [
              "       Postal code       date  ...  Slots_freed_sum  Slots_taken_sum\n",
              "0            75001   1/1/2018  ...               22               20\n",
              "1            75001   1/2/2018  ...               23               22\n",
              "2            75001   1/3/2018  ...               27               27\n",
              "3            75001   1/4/2018  ...               25               21\n",
              "4            75001   1/5/2018  ...               18               20\n",
              "...            ...        ...  ...              ...              ...\n",
              "16080        95880  6/15/2018  ...                0                0\n",
              "16081        95880  6/16/2018  ...                0                0\n",
              "16082        95880  6/17/2018  ...                0                0\n",
              "16083        95880  6/18/2018  ...                0                0\n",
              "16084        95880  6/19/2018  ...                0                0\n",
              "\n",
              "[13870 rows x 9 columns]"
            ]
          },
          "metadata": {
            "tags": []
          },
          "execution_count": 73
        }
      ]
    },
    {
      "cell_type": "code",
      "metadata": {
        "id": "0iM2Z963-lDu",
        "colab_type": "code",
        "colab": {
          "base_uri": "https://localhost:8080/",
          "height": 313
        },
        "outputId": "050ecbc0-e2af-4293-b14d-714357928596"
      },
      "source": [
        "sns.boxplot(x = df_2['BlueCars_taken_sum'])\n",
        "pyplot.title('Boxplot of BlueCars_taken_sum after dropping outliers')"
      ],
      "execution_count": 75,
      "outputs": [
        {
          "output_type": "execute_result",
          "data": {
            "text/plain": [
              "Text(0.5, 1.0, 'Boxplot of BlueCars_taken_sum after dropping outliers')"
            ]
          },
          "metadata": {
            "tags": []
          },
          "execution_count": 75
        },
        {
          "output_type": "display_data",
          "data": {
            "image/png": "[encoded data removed]",
            "text/plain": [
              "<Figure size 432x288 with 1 Axes>"
            ]
          },
          "metadata": {
            "tags": []
          }
        }
      ]
    },
    {
      "cell_type": "code",
      "metadata": {
        "id": "Yr5-mJcsisP_",
        "colab_type": "code",
        "colab": {
          "base_uri": "https://localhost:8080/",
          "height": 158
        },
        "outputId": "4bbf4739-1f78-4e65-feb5-95f25037e16c"
      },
      "source": [
        "Q1 = df_2.quantile(0.25)\n",
        "Q3 = df_2.quantile(0.75)\n",
        "IQR = Q3 - Q1\n",
        "print(IQR)"
      ],
      "execution_count": 12,
      "outputs": [
        {
          "output_type": "stream",
          "text": [
            "Postal code              1430.0\n",
            "n_daily_data_points         1.0\n",
            "dayOfWeek                   4.0\n",
            "BlueCars_taken_sum         64.0\n",
            "BlueCars_returned_sum      64.0\n",
            "Slots_freed_sum             1.0\n",
            "Slots_taken_sum             1.0\n",
            "dtype: float64\n"
          ],
          "name": "stdout"
        }
      ]
    },
    {
      "cell_type": "markdown",
      "metadata": {
        "id": "nPoAml3x3gPs",
        "colab_type": "text"
      },
      "source": [
        "### Completeness"
      ]
    },
    {
      "cell_type": "code",
      "metadata": {
        "id": "d2TEb9yT3VGm",
        "colab_type": "code",
        "outputId": "b25e2587-2e43-4df4-f6df-6269d234ba85",
        "colab": {
          "base_uri": "https://localhost:8080/",
          "height": 194
        }
      },
      "source": [
        "df_2.isnull().sum()\n",
        "#there are no null values"
      ],
      "execution_count": 13,
      "outputs": [
        {
          "output_type": "execute_result",
          "data": {
            "text/plain": [
              "Postal code              0\n",
              "date                     0\n",
              "n_daily_data_points      0\n",
              "dayOfWeek                0\n",
              "day_type                 0\n",
              "BlueCars_taken_sum       0\n",
              "BlueCars_returned_sum    0\n",
              "Slots_freed_sum          0\n",
              "Slots_taken_sum          0\n",
              "dtype: int64"
            ]
          },
          "metadata": {
            "tags": []
          },
          "execution_count": 13
        }
      ]
    },
    {
      "cell_type": "markdown",
      "metadata": {
        "id": "0CWduXIj3kTb",
        "colab_type": "text"
      },
      "source": [
        "### Consistency"
      ]
    },
    {
      "cell_type": "code",
      "metadata": {
        "id": "67LFnQcP3UbS",
        "colab_type": "code",
        "outputId": "8db7dd60-c541-4af2-cdf3-dd4f8d42d517",
        "colab": {
          "base_uri": "https://localhost:8080/",
          "height": 34
        }
      },
      "source": [
        "df_2.duplicated().sum()\n",
        "#There are no duplicated columns in thne dataframe"
      ],
      "execution_count": 14,
      "outputs": [
        {
          "output_type": "execute_result",
          "data": {
            "text/plain": [
              "0"
            ]
          },
          "metadata": {
            "tags": []
          },
          "execution_count": 14
        }
      ]
    },
    {
      "cell_type": "markdown",
      "metadata": {
        "id": "7qO10nac3oX4",
        "colab_type": "text"
      },
      "source": [
        "### Uniformity"
      ]
    },
    {
      "cell_type": "code",
      "metadata": {
        "id": "JPowEmvARH7d",
        "colab_type": "code",
        "outputId": "d17cf894-1fcf-43a0-e6a8-0e097f0a346c",
        "colab": {
          "base_uri": "https://localhost:8080/",
          "height": 636
        }
      },
      "source": [
        "df_2.columns = [\"POSTAL CODE\",\"DATE\",\"N_DAILY_DATA_POINTS\",\"DAY OF WEEK\",\"DAY TYPE\",\"BLUECARS_TAKEN_SUM\",\"BLUECARS_RETURNED_SUM\", \"SLOTS_FREED_SUM\",\"SLOTS_TAKEN_SUM\"]\n",
        "df_2\n",
        "#changing the column names to Uppercase"
      ],
      "execution_count": 38,
      "outputs": [
        {
          "output_type": "execute_result",
          "data": {
            "text/html": [
              "<div>\n",
              "<style scoped>\n",
              "    .dataframe tbody tr th:only-of-type {\n",
              "        vertical-align: middle;\n",
              "    }\n",
              "\n",
              "    .dataframe tbody tr th {\n",
              "        vertical-align: top;\n",
              "    }\n",
              "\n",
              "    .dataframe thead th {\n",
              "        text-align: right;\n",
              "    }\n",
              "</style>\n",
              "<table border=\"1\" class=\"dataframe\">\n",
              "  <thead>\n",
              "    <tr style=\"text-align: right;\">\n",
              "      <th></th>\n",
              "      <th>POSTAL CODE</th>\n",
              "      <th>DATE</th>\n",
              "      <th>N_DAILY_DATA_POINTS</th>\n",
              "      <th>DAY OF WEEK</th>\n",
              "      <th>DAY TYPE</th>\n",
              "      <th>BLUECARS_TAKEN_SUM</th>\n",
              "      <th>BLUECARS_RETURNED_SUM</th>\n",
              "      <th>SLOTS_FREED_SUM</th>\n",
              "      <th>SLOTS_TAKEN_SUM</th>\n",
              "    </tr>\n",
              "    <tr>\n",
              "      <th>DATE</th>\n",
              "      <th></th>\n",
              "      <th></th>\n",
              "      <th></th>\n",
              "      <th></th>\n",
              "      <th></th>\n",
              "      <th></th>\n",
              "      <th></th>\n",
              "      <th></th>\n",
              "      <th></th>\n",
              "    </tr>\n",
              "  </thead>\n",
              "  <tbody>\n",
              "    <tr>\n",
              "      <th>2018-01-01</th>\n",
              "      <td>75001</td>\n",
              "      <td>2018-01-01</td>\n",
              "      <td>1440</td>\n",
              "      <td>0</td>\n",
              "      <td>weekday</td>\n",
              "      <td>110</td>\n",
              "      <td>103</td>\n",
              "      <td>22</td>\n",
              "      <td>20</td>\n",
              "    </tr>\n",
              "    <tr>\n",
              "      <th>2018-01-02</th>\n",
              "      <td>75001</td>\n",
              "      <td>2018-01-02</td>\n",
              "      <td>1438</td>\n",
              "      <td>1</td>\n",
              "      <td>weekday</td>\n",
              "      <td>98</td>\n",
              "      <td>94</td>\n",
              "      <td>23</td>\n",
              "      <td>22</td>\n",
              "    </tr>\n",
              "    <tr>\n",
              "      <th>2018-01-03</th>\n",
              "      <td>75001</td>\n",
              "      <td>2018-01-03</td>\n",
              "      <td>1439</td>\n",
              "      <td>2</td>\n",
              "      <td>weekday</td>\n",
              "      <td>138</td>\n",
              "      <td>139</td>\n",
              "      <td>27</td>\n",
              "      <td>27</td>\n",
              "    </tr>\n",
              "    <tr>\n",
              "      <th>2018-01-04</th>\n",
              "      <td>75001</td>\n",
              "      <td>2018-01-04</td>\n",
              "      <td>1320</td>\n",
              "      <td>3</td>\n",
              "      <td>weekday</td>\n",
              "      <td>104</td>\n",
              "      <td>104</td>\n",
              "      <td>25</td>\n",
              "      <td>21</td>\n",
              "    </tr>\n",
              "    <tr>\n",
              "      <th>2018-01-05</th>\n",
              "      <td>75001</td>\n",
              "      <td>2018-01-05</td>\n",
              "      <td>1440</td>\n",
              "      <td>4</td>\n",
              "      <td>weekday</td>\n",
              "      <td>114</td>\n",
              "      <td>117</td>\n",
              "      <td>18</td>\n",
              "      <td>20</td>\n",
              "    </tr>\n",
              "    <tr>\n",
              "      <th>...</th>\n",
              "      <td>...</td>\n",
              "      <td>...</td>\n",
              "      <td>...</td>\n",
              "      <td>...</td>\n",
              "      <td>...</td>\n",
              "      <td>...</td>\n",
              "      <td>...</td>\n",
              "      <td>...</td>\n",
              "      <td>...</td>\n",
              "    </tr>\n",
              "    <tr>\n",
              "      <th>2018-06-15</th>\n",
              "      <td>95880</td>\n",
              "      <td>2018-06-15</td>\n",
              "      <td>1440</td>\n",
              "      <td>4</td>\n",
              "      <td>weekday</td>\n",
              "      <td>15</td>\n",
              "      <td>10</td>\n",
              "      <td>0</td>\n",
              "      <td>0</td>\n",
              "    </tr>\n",
              "    <tr>\n",
              "      <th>2018-06-16</th>\n",
              "      <td>95880</td>\n",
              "      <td>2018-06-16</td>\n",
              "      <td>1440</td>\n",
              "      <td>5</td>\n",
              "      <td>weekend</td>\n",
              "      <td>19</td>\n",
              "      <td>19</td>\n",
              "      <td>0</td>\n",
              "      <td>0</td>\n",
              "    </tr>\n",
              "    <tr>\n",
              "      <th>2018-06-17</th>\n",
              "      <td>95880</td>\n",
              "      <td>2018-06-17</td>\n",
              "      <td>1440</td>\n",
              "      <td>6</td>\n",
              "      <td>weekend</td>\n",
              "      <td>33</td>\n",
              "      <td>35</td>\n",
              "      <td>0</td>\n",
              "      <td>0</td>\n",
              "    </tr>\n",
              "    <tr>\n",
              "      <th>2018-06-18</th>\n",
              "      <td>95880</td>\n",
              "      <td>2018-06-18</td>\n",
              "      <td>1440</td>\n",
              "      <td>0</td>\n",
              "      <td>weekday</td>\n",
              "      <td>11</td>\n",
              "      <td>14</td>\n",
              "      <td>0</td>\n",
              "      <td>0</td>\n",
              "    </tr>\n",
              "    <tr>\n",
              "      <th>2018-06-19</th>\n",
              "      <td>95880</td>\n",
              "      <td>2018-06-19</td>\n",
              "      <td>1370</td>\n",
              "      <td>1</td>\n",
              "      <td>weekday</td>\n",
              "      <td>2</td>\n",
              "      <td>2</td>\n",
              "      <td>0</td>\n",
              "      <td>0</td>\n",
              "    </tr>\n",
              "  </tbody>\n",
              "</table>\n",
              "<p>13870 rows × 9 columns</p>\n",
              "</div>"
            ],
            "text/plain": [
              "            POSTAL CODE       DATE  ...  SLOTS_FREED_SUM  SLOTS_TAKEN_SUM\n",
              "DATE                                ...                                  \n",
              "2018-01-01        75001 2018-01-01  ...               22               20\n",
              "2018-01-02        75001 2018-01-02  ...               23               22\n",
              "2018-01-03        75001 2018-01-03  ...               27               27\n",
              "2018-01-04        75001 2018-01-04  ...               25               21\n",
              "2018-01-05        75001 2018-01-05  ...               18               20\n",
              "...                 ...        ...  ...              ...              ...\n",
              "2018-06-15        95880 2018-06-15  ...                0                0\n",
              "2018-06-16        95880 2018-06-16  ...                0                0\n",
              "2018-06-17        95880 2018-06-17  ...                0                0\n",
              "2018-06-18        95880 2018-06-18  ...                0                0\n",
              "2018-06-19        95880 2018-06-19  ...                0                0\n",
              "\n",
              "[13870 rows x 9 columns]"
            ]
          },
          "metadata": {
            "tags": []
          },
          "execution_count": 38
        }
      ]
    },
    {
      "cell_type": "markdown",
      "metadata": {
        "id": "RW5cIRAV7IXI",
        "colab_type": "text"
      },
      "source": [
        "#DATA UNDERSTANDING(BI-VARIATE ANALYSIS)"
      ]
    },
    {
      "cell_type": "code",
      "metadata": {
        "id": "BRCPBkKAS_Ok",
        "colab_type": "code",
        "outputId": "7fb8db30-9cd2-4030-e593-b2d93d8f92b5",
        "colab": {
          "base_uri": "https://localhost:8080/",
          "height": 310
        }
      },
      "source": [
        "#Blue cars taken per day\n",
        "df_3 = df_2\n",
        "df_3\n",
        "df_3.groupby('DAY OF WEEK')['BLUECARS_TAKEN_SUM'].mean().plot(kind='bar')\n",
        "pyplot.title('Blue Cars taken sum per day')\n",
        "#The highest number of Blue cars were taken on Sunday followed by Saturday"
      ],
      "execution_count": 16,
      "outputs": [
        {
          "output_type": "execute_result",
          "data": {
            "text/plain": [
              "Text(0.5, 1.0, 'Blue Cars taken sum per day')"
            ]
          },
          "metadata": {
            "tags": []
          },
          "execution_count": 16
        },
        {
          "output_type": "display_data",
          "data": {
            "image/png": "[encoded data removed]",
            "text/plain": [
              "<Figure size 432x288 with 1 Axes>"
            ]
          },
          "metadata": {
            "tags": []
          }
        }
      ]
    },
    {
      "cell_type": "code",
      "metadata": {
        "id": "y694tZNqTCaL",
        "colab_type": "code",
        "outputId": "10d79337-b03e-4278-e9be-8962b996c987",
        "colab": {
          "base_uri": "https://localhost:8080/",
          "height": 310
        }
      },
      "source": [
        "#Blue cars returned per day\n",
        "df_4 = df_3\n",
        "df_4\n",
        "df_4.groupby('DAY OF WEEK')['BLUECARS_RETURNED_SUM'].mean().plot(kind='bar')\n",
        "pyplot.title('Blue Cars returned sum per day')\n",
        "#The highest number of Blue cars were returned on Sunday followed by Saturday"
      ],
      "execution_count": 18,
      "outputs": [
        {
          "output_type": "execute_result",
          "data": {
            "text/plain": [
              "Text(0.5, 1.0, 'Blue Cars returned sum per day')"
            ]
          },
          "metadata": {
            "tags": []
          },
          "execution_count": 18
        },
        {
          "output_type": "display_data",
          "data": {
            "image/png": "[encoded data removed]",
            "text/plain": [
              "<Figure size 432x288 with 1 Axes>"
            ]
          },
          "metadata": {
            "tags": []
          }
        }
      ]
    },
    {
      "cell_type": "code",
      "metadata": {
        "id": "0DSLMdeLTFj2",
        "colab_type": "code",
        "outputId": "158c911b-f493-4d72-bef0-8b3bcc53d9b3",
        "colab": {
          "base_uri": "https://localhost:8080/",
          "height": 34
        }
      },
      "source": [
        "#Correlation between Blue cars taken and Blue Cars returned\n",
        "df_5 = df_4\n",
        "df_5\n",
        "df_5['BLUECARS_TAKEN_SUM'].corr(df_5['BLUECARS_RETURNED_SUM'])\n",
        "#There is very high correlation between the rate at which the  Blue cars are taken and returned"
      ],
      "execution_count": 25,
      "outputs": [
        {
          "output_type": "execute_result",
          "data": {
            "text/plain": [
              "0.9956048599273822"
            ]
          },
          "metadata": {
            "tags": []
          },
          "execution_count": 25
        }
      ]
    },
    {
      "cell_type": "code",
      "metadata": {
        "id": "UVRSQfFct1LK",
        "colab_type": "code",
        "outputId": "54d32ffe-13de-4b7e-8842-779e9e787615",
        "colab": {
          "base_uri": "https://localhost:8080/",
          "height": 34
        }
      },
      "source": [
        "df_5['BLUECARS_TAKEN_SUM'].corr(df_5['DAY OF WEEK'])\n",
        "#There is very little correlation between How the Blue cars were taken and the day of the week"
      ],
      "execution_count": 26,
      "outputs": [
        {
          "output_type": "execute_result",
          "data": {
            "text/plain": [
              "0.04911451257639324"
            ]
          },
          "metadata": {
            "tags": []
          },
          "execution_count": 26
        }
      ]
    },
    {
      "cell_type": "code",
      "metadata": {
        "id": "FeK_7wS0TP8J",
        "colab_type": "code",
        "colab": {
          "base_uri": "https://localhost:8080/",
          "height": 347
        },
        "outputId": "f6af81bd-15e3-4bd5-8265-1cdd0c55e236"
      },
      "source": [
        "#Blue cars taken Weekday vs Weekend\n",
        "df_5.groupby('DAY TYPE')['BLUECARS_RETURNED_SUM'].mean().plot(kind='bar')\n",
        "pyplot.title('Blue Cars taken sum per type of day')\n",
        "#Bar plot summary of how the Blue cars were picked up on weekdays vs weekends"
      ],
      "execution_count": 27,
      "outputs": [
        {
          "output_type": "execute_result",
          "data": {
            "text/plain": [
              "Text(0.5, 1.0, 'Blue Cars taken sum per type of day')"
            ]
          },
          "metadata": {
            "tags": []
          },
          "execution_count": 27
        },
        {
          "output_type": "display_data",
          "data": {
            "image/png": "[encoded data removed]",
            "text/plain": [
              "<Figure size 432x288 with 1 Axes>"
            ]
          },
          "metadata": {
            "tags": []
          }
        }
      ]
    },
    {
      "cell_type": "code",
      "metadata": {
        "id": "0bsbuGk-TYOq",
        "colab_type": "code",
        "colab": {
          "base_uri": "https://localhost:8080/",
          "height": 364
        },
        "outputId": "ec34feaa-f6b6-42b0-931e-b5a8f5bcf041"
      },
      "source": [
        "#Mean of the Bluecars taken per month\n",
        "df_5['DATE'] = pd.to_datetime(df_5['DATE'])\n",
        "df_5.index = df_5['DATE']\n",
        "df_5.resample('M').mean()"
      ],
      "execution_count": 28,
      "outputs": [
        {
          "output_type": "stream",
          "text": [
            "/usr/local/lib/python3.6/dist-packages/ipykernel_launcher.py:1: SettingWithCopyWarning: \n",
            "A value is trying to be set on a copy of a slice from a DataFrame.\n",
            "Try using .loc[row_indexer,col_indexer] = value instead\n",
            "\n",
            "See the caveats in the documentation: http://pandas.pydata.org/pandas-docs/stable/user_guide/indexing.html#returning-a-view-versus-a-copy\n",
            "  \"\"\"Entry point for launching an IPython kernel.\n"
          ],
          "name": "stderr"
        },
        {
          "output_type": "execute_result",
          "data": {
            "text/html": [
              "<div>\n",
              "<style scoped>\n",
              "    .dataframe tbody tr th:only-of-type {\n",
              "        vertical-align: middle;\n",
              "    }\n",
              "\n",
              "    .dataframe tbody tr th {\n",
              "        vertical-align: top;\n",
              "    }\n",
              "\n",
              "    .dataframe thead th {\n",
              "        text-align: right;\n",
              "    }\n",
              "</style>\n",
              "<table border=\"1\" class=\"dataframe\">\n",
              "  <thead>\n",
              "    <tr style=\"text-align: right;\">\n",
              "      <th></th>\n",
              "      <th>POSTAL CODE</th>\n",
              "      <th>N_DAILY_DATA_POINTS</th>\n",
              "      <th>DAY OF WEEK</th>\n",
              "      <th>BLUECARS_TAKEN_SUM</th>\n",
              "      <th>BLUECARS_RETURNED_SUM</th>\n",
              "      <th>SLOTS_FREED_SUM</th>\n",
              "      <th>SLOTS_TAKEN_SUM</th>\n",
              "    </tr>\n",
              "    <tr>\n",
              "      <th>DATE</th>\n",
              "      <th></th>\n",
              "      <th></th>\n",
              "      <th></th>\n",
              "      <th></th>\n",
              "      <th></th>\n",
              "      <th></th>\n",
              "      <th></th>\n",
              "    </tr>\n",
              "  </thead>\n",
              "  <tbody>\n",
              "    <tr>\n",
              "      <th>2018-01-31</th>\n",
              "      <td>90853.319490</td>\n",
              "      <td>1433.916576</td>\n",
              "      <td>2.766120</td>\n",
              "      <td>61.265574</td>\n",
              "      <td>61.313297</td>\n",
              "      <td>4.331148</td>\n",
              "      <td>4.328962</td>\n",
              "    </tr>\n",
              "    <tr>\n",
              "      <th>2018-02-28</th>\n",
              "      <td>90686.838782</td>\n",
              "      <td>1435.680699</td>\n",
              "      <td>3.053739</td>\n",
              "      <td>59.993283</td>\n",
              "      <td>60.000000</td>\n",
              "      <td>4.674429</td>\n",
              "      <td>4.678012</td>\n",
              "    </tr>\n",
              "    <tr>\n",
              "      <th>2018-03-31</th>\n",
              "      <td>90808.372399</td>\n",
              "      <td>1436.163198</td>\n",
              "      <td>3.055495</td>\n",
              "      <td>61.756846</td>\n",
              "      <td>61.797006</td>\n",
              "      <td>4.964221</td>\n",
              "      <td>4.960935</td>\n",
              "    </tr>\n",
              "    <tr>\n",
              "      <th>2018-04-30</th>\n",
              "      <td>90762.917040</td>\n",
              "      <td>1421.677504</td>\n",
              "      <td>2.974589</td>\n",
              "      <td>62.790732</td>\n",
              "      <td>62.649851</td>\n",
              "      <td>4.914798</td>\n",
              "      <td>4.919656</td>\n",
              "    </tr>\n",
              "    <tr>\n",
              "      <th>2018-05-31</th>\n",
              "      <td>90872.616890</td>\n",
              "      <td>1422.953020</td>\n",
              "      <td>2.733221</td>\n",
              "      <td>62.808725</td>\n",
              "      <td>62.861298</td>\n",
              "      <td>4.668345</td>\n",
              "      <td>4.663870</td>\n",
              "    </tr>\n",
              "    <tr>\n",
              "      <th>2018-06-30</th>\n",
              "      <td>90816.021906</td>\n",
              "      <td>1435.783896</td>\n",
              "      <td>3.014210</td>\n",
              "      <td>62.770870</td>\n",
              "      <td>62.773239</td>\n",
              "      <td>4.178212</td>\n",
              "      <td>4.172291</td>\n",
              "    </tr>\n",
              "  </tbody>\n",
              "</table>\n",
              "</div>"
            ],
            "text/plain": [
              "             POSTAL CODE  N_DAILY_DATA_POINTS  ...  SLOTS_FREED_SUM  SLOTS_TAKEN_SUM\n",
              "DATE                                           ...                                  \n",
              "2018-01-31  90853.319490          1433.916576  ...         4.331148         4.328962\n",
              "2018-02-28  90686.838782          1435.680699  ...         4.674429         4.678012\n",
              "2018-03-31  90808.372399          1436.163198  ...         4.964221         4.960935\n",
              "2018-04-30  90762.917040          1421.677504  ...         4.914798         4.919656\n",
              "2018-05-31  90872.616890          1422.953020  ...         4.668345         4.663870\n",
              "2018-06-30  90816.021906          1435.783896  ...         4.178212         4.172291\n",
              "\n",
              "[6 rows x 7 columns]"
            ]
          },
          "metadata": {
            "tags": []
          },
          "execution_count": 28
        }
      ]
    },
    {
      "cell_type": "code",
      "metadata": {
        "id": "hYI7Fn-TWFOG",
        "colab_type": "code",
        "colab": {
          "base_uri": "https://localhost:8080/",
          "height": 293
        },
        "outputId": "4f3fd411-cb76-4e06-c017-e16e758faf09"
      },
      "source": [
        "#Mmean number of (Bluecar taken) entries per month\n",
        "df_5.groupby([df_5[\"DATE\"].dt.month]).count().plot(kind=\"bar\")"
      ],
      "execution_count": 29,
      "outputs": [
        {
          "output_type": "execute_result",
          "data": {
            "text/plain": [
              "<matplotlib.axes._subplots.AxesSubplot at 0x7f916d54d7f0>"
            ]
          },
          "metadata": {
            "tags": []
          },
          "execution_count": 29
        },
        {
          "output_type": "display_data",
          "data": {
            "image/png": "[encoded data removed]",
            "text/plain": [
              "<Figure size 432x288 with 1 Axes>"
            ]
          },
          "metadata": {
            "tags": []
          }
        }
      ]
    },
    {
      "cell_type": "markdown",
      "metadata": {
        "id": "lKHEjhKnzNnz",
        "colab_type": "text"
      },
      "source": [
        "# HYPOTHESIS"
      ]
    },
    {
      "cell_type": "markdown",
      "metadata": {
        "id": "9DubJsKYsXEm",
        "colab_type": "text"
      },
      "source": [
        "## Null Hypothesis\n",
        "\n",
        "The average number of Blue cars taken from Postal code 75015 Paris over weekend is same as those taken in Postal Code 75015\n",
        "\n",
        "Ho :  μ of 75015 = μ of 75017"
      ]
    },
    {
      "cell_type": "markdown",
      "metadata": {
        "id": "E5IBxqBtsd45",
        "colab_type": "text"
      },
      "source": [
        "## Alternate Hypothesis\n",
        "\n",
        "The average number of Blue cars taken from Postal code 75015 Paris over weekend is not the same as those taken in Postal Code 75015\n",
        "\n",
        "Ha :  μ of 75015 ≠ μ of 75017"
      ]
    },
    {
      "cell_type": "code",
      "metadata": {
        "id": "MrN61264sUre",
        "colab_type": "code",
        "colab": {
          "base_uri": "https://localhost:8080/",
          "height": 204
        },
        "outputId": "c845c911-c6f3-42c3-c96e-db1a96038310"
      },
      "source": [
        "df_6 = df_2[df_2['POSTAL CODE'] == 75015]\n",
        "df_6"
      ],
      "execution_count": 63,
      "outputs": [
        {
          "output_type": "execute_result",
          "data": {
            "text/html": [
              "<div>\n",
              "<style scoped>\n",
              "    .dataframe tbody tr th:only-of-type {\n",
              "        vertical-align: middle;\n",
              "    }\n",
              "\n",
              "    .dataframe tbody tr th {\n",
              "        vertical-align: top;\n",
              "    }\n",
              "\n",
              "    .dataframe thead th {\n",
              "        text-align: right;\n",
              "    }\n",
              "</style>\n",
              "<table border=\"1\" class=\"dataframe\">\n",
              "  <thead>\n",
              "    <tr style=\"text-align: right;\">\n",
              "      <th></th>\n",
              "      <th>POSTAL CODE</th>\n",
              "      <th>DATE</th>\n",
              "      <th>N_DAILY_DATA_POINTS</th>\n",
              "      <th>DAY OF WEEK</th>\n",
              "      <th>DAY TYPE</th>\n",
              "      <th>BLUECARS_TAKEN_SUM</th>\n",
              "      <th>BLUECARS_RETURNED_SUM</th>\n",
              "      <th>SLOTS_FREED_SUM</th>\n",
              "      <th>SLOTS_TAKEN_SUM</th>\n",
              "    </tr>\n",
              "    <tr>\n",
              "      <th>DATE</th>\n",
              "      <th></th>\n",
              "      <th></th>\n",
              "      <th></th>\n",
              "      <th></th>\n",
              "      <th></th>\n",
              "      <th></th>\n",
              "      <th></th>\n",
              "      <th></th>\n",
              "      <th></th>\n",
              "    </tr>\n",
              "  </thead>\n",
              "  <tbody>\n",
              "    <tr>\n",
              "      <th>2018-02-24</th>\n",
              "      <td>75015</td>\n",
              "      <td>2018-02-24</td>\n",
              "      <td>1396</td>\n",
              "      <td>5</td>\n",
              "      <td>weekend</td>\n",
              "      <td>58</td>\n",
              "      <td>93</td>\n",
              "      <td>22</td>\n",
              "      <td>24</td>\n",
              "    </tr>\n",
              "    <tr>\n",
              "      <th>2018-06-19</th>\n",
              "      <td>75015</td>\n",
              "      <td>2018-06-19</td>\n",
              "      <td>1370</td>\n",
              "      <td>1</td>\n",
              "      <td>weekday</td>\n",
              "      <td>49</td>\n",
              "      <td>52</td>\n",
              "      <td>7</td>\n",
              "      <td>8</td>\n",
              "    </tr>\n",
              "  </tbody>\n",
              "</table>\n",
              "</div>"
            ],
            "text/plain": [
              "            POSTAL CODE       DATE  ...  SLOTS_FREED_SUM  SLOTS_TAKEN_SUM\n",
              "DATE                                ...                                  \n",
              "2018-02-24        75015 2018-02-24  ...               22               24\n",
              "2018-06-19        75015 2018-06-19  ...                7                8\n",
              "\n",
              "[2 rows x 9 columns]"
            ]
          },
          "metadata": {
            "tags": []
          },
          "execution_count": 63
        }
      ]
    },
    {
      "cell_type": "code",
      "metadata": {
        "id": "qy-FcXAj0M77",
        "colab_type": "code",
        "colab": {
          "base_uri": "https://localhost:8080/",
          "height": 158
        },
        "outputId": "06f95638-06fd-483f-ca48-bb9300fac5aa"
      },
      "source": [
        "df_6.mean()"
      ],
      "execution_count": 64,
      "outputs": [
        {
          "output_type": "execute_result",
          "data": {
            "text/plain": [
              "POSTAL CODE              75015.0\n",
              "N_DAILY_DATA_POINTS       1383.0\n",
              "DAY OF WEEK                  3.0\n",
              "BLUECARS_TAKEN_SUM          53.5\n",
              "BLUECARS_RETURNED_SUM       72.5\n",
              "SLOTS_FREED_SUM             14.5\n",
              "SLOTS_TAKEN_SUM             16.0\n",
              "dtype: float64"
            ]
          },
          "metadata": {
            "tags": []
          },
          "execution_count": 64
        }
      ]
    },
    {
      "cell_type": "code",
      "metadata": {
        "id": "MFUMVnHF0Rr9",
        "colab_type": "code",
        "colab": {
          "base_uri": "https://localhost:8080/",
          "height": 158
        },
        "outputId": "3539f9a7-456c-4f3b-877d-b3af18e0121a"
      },
      "source": [
        "df_7.mean()"
      ],
      "execution_count": 66,
      "outputs": [
        {
          "output_type": "execute_result",
          "data": {
            "text/plain": [
              "POSTAL CODE              75017.0\n",
              "N_DAILY_DATA_POINTS       1383.0\n",
              "DAY OF WEEK                  3.0\n",
              "BLUECARS_TAKEN_SUM          44.5\n",
              "BLUECARS_RETURNED_SUM       49.0\n",
              "SLOTS_FREED_SUM              8.5\n",
              "SLOTS_TAKEN_SUM              7.5\n",
              "dtype: float64"
            ]
          },
          "metadata": {
            "tags": []
          },
          "execution_count": 66
        }
      ]
    },
    {
      "cell_type": "code",
      "metadata": {
        "id": "iCBrHY7esUe5",
        "colab_type": "code",
        "colab": {
          "base_uri": "https://localhost:8080/",
          "height": 204
        },
        "outputId": "56313f65-0cf1-4991-9820-cce2b7cf9a65"
      },
      "source": [
        "df_7 = df_2.loc[df_5['POSTAL CODE'] == 75017]\n",
        "df_7 "
      ],
      "execution_count": 65,
      "outputs": [
        {
          "output_type": "execute_result",
          "data": {
            "text/html": [
              "<div>\n",
              "<style scoped>\n",
              "    .dataframe tbody tr th:only-of-type {\n",
              "        vertical-align: middle;\n",
              "    }\n",
              "\n",
              "    .dataframe tbody tr th {\n",
              "        vertical-align: top;\n",
              "    }\n",
              "\n",
              "    .dataframe thead th {\n",
              "        text-align: right;\n",
              "    }\n",
              "</style>\n",
              "<table border=\"1\" class=\"dataframe\">\n",
              "  <thead>\n",
              "    <tr style=\"text-align: right;\">\n",
              "      <th></th>\n",
              "      <th>POSTAL CODE</th>\n",
              "      <th>DATE</th>\n",
              "      <th>N_DAILY_DATA_POINTS</th>\n",
              "      <th>DAY OF WEEK</th>\n",
              "      <th>DAY TYPE</th>\n",
              "      <th>BLUECARS_TAKEN_SUM</th>\n",
              "      <th>BLUECARS_RETURNED_SUM</th>\n",
              "      <th>SLOTS_FREED_SUM</th>\n",
              "      <th>SLOTS_TAKEN_SUM</th>\n",
              "    </tr>\n",
              "    <tr>\n",
              "      <th>DATE</th>\n",
              "      <th></th>\n",
              "      <th></th>\n",
              "      <th></th>\n",
              "      <th></th>\n",
              "      <th></th>\n",
              "      <th></th>\n",
              "      <th></th>\n",
              "      <th></th>\n",
              "      <th></th>\n",
              "    </tr>\n",
              "  </thead>\n",
              "  <tbody>\n",
              "    <tr>\n",
              "      <th>2018-02-24</th>\n",
              "      <td>75017</td>\n",
              "      <td>2018-02-24</td>\n",
              "      <td>1396</td>\n",
              "      <td>5</td>\n",
              "      <td>weekend</td>\n",
              "      <td>51</td>\n",
              "      <td>57</td>\n",
              "      <td>12</td>\n",
              "      <td>10</td>\n",
              "    </tr>\n",
              "    <tr>\n",
              "      <th>2018-06-19</th>\n",
              "      <td>75017</td>\n",
              "      <td>2018-06-19</td>\n",
              "      <td>1370</td>\n",
              "      <td>1</td>\n",
              "      <td>weekday</td>\n",
              "      <td>38</td>\n",
              "      <td>41</td>\n",
              "      <td>5</td>\n",
              "      <td>5</td>\n",
              "    </tr>\n",
              "  </tbody>\n",
              "</table>\n",
              "</div>"
            ],
            "text/plain": [
              "            POSTAL CODE       DATE  ...  SLOTS_FREED_SUM  SLOTS_TAKEN_SUM\n",
              "DATE                                ...                                  \n",
              "2018-02-24        75017 2018-02-24  ...               12               10\n",
              "2018-06-19        75017 2018-06-19  ...                5                5\n",
              "\n",
              "[2 rows x 9 columns]"
            ]
          },
          "metadata": {
            "tags": []
          },
          "execution_count": 65
        }
      ]
    },
    {
      "cell_type": "markdown",
      "metadata": {
        "id": "MqLnmXHwqxJj",
        "colab_type": "text"
      },
      "source": [
        "### Significance level\n",
        "\n",
        "The significance level was set to 5% ,\n",
        "Alpha = 0.05"
      ]
    },
    {
      "cell_type": "markdown",
      "metadata": {
        "id": "DMnO68yorsWU",
        "colab_type": "text"
      },
      "source": [
        "## T-TEST\n",
        "\n",
        "T test was adopted as the records count isless than 30."
      ]
    },
    {
      "cell_type": "code",
      "metadata": {
        "id": "kJB73loow-sf",
        "colab_type": "code",
        "colab": {}
      },
      "source": [
        "#importing the ttest library\n",
        "from scipy.stats import ttest_ind"
      ],
      "execution_count": 0,
      "outputs": []
    },
    {
      "cell_type": "code",
      "metadata": {
        "id": "DGOtk1ASxATC",
        "colab_type": "code",
        "colab": {
          "base_uri": "https://localhost:8080/",
          "height": 34
        },
        "outputId": "6ad83e81-542a-42c7-85f2-fa181ed75a2f"
      },
      "source": [
        "#calculating the test statistic and P-value\n",
        "ttest_ind(df_6['BLUECARS_TAKEN_SUM'], df_7['BLUECARS_TAKEN_SUM'])"
      ],
      "execution_count": 67,
      "outputs": [
        {
          "output_type": "execute_result",
          "data": {
            "text/plain": [
              "Ttest_indResult(statistic=1.1384199576606167, pvalue=0.3729402871375441)"
            ]
          },
          "metadata": {
            "tags": []
          },
          "execution_count": 67
        }
      ]
    },
    {
      "cell_type": "markdown",
      "metadata": {
        "id": "-8tgLsYS7eM4",
        "colab_type": "text"
      },
      "source": [
        "#Test Sensitivity\n",
        "\n",
        "The null hypothesis failed to be rejected thus further tests should be carried out to explain the difference between the two postal codes.\n",
        "The method used relies on the mean for computation and may not be sufficient to give meaningful insight about the use of shared Electric cars in Paris."
      ]
    },
    {
      "cell_type": "markdown",
      "metadata": {
        "id": "xHkhAHQHzKkb",
        "colab_type": "text"
      },
      "source": [
        "## Conclusion"
      ]
    },
    {
      "cell_type": "markdown",
      "metadata": {
        "id": "nLYnryHQyV4O",
        "colab_type": "text"
      },
      "source": [
        "Since the p-value is larger than 0.05, we fail to reject the null hypothesis that siginificant similarity exists between the two Postal Codes.\n"
      ]
    }
  ]
}