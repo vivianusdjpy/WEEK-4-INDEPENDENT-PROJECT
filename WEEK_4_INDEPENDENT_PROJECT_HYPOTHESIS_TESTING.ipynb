{
  "nbformat": 4,
  "nbformat_minor": 0,
  "metadata": {
    "colab": {
      "name": "WEEK 4 INDEPENDENT PROJECT- HYPOTHESIS TESTING",
      "provenance": [],
      "toc_visible": true,
      "include_colab_link": true
    },
    "kernelspec": {
      "name": "python3",
      "display_name": "Python 3"
    }
  },
  "cells": [
    {
      "cell_type": "markdown",
      "metadata": {
        "id": "view-in-github",
        "colab_type": "text"
      },
      "source": [
        "<a href=\"https://colab.research.google.com/github/vivianusdjpy/WEEK-4-INDEPENDENT-PROJECT-HYPOTHESIS-TESTING/blob/master/WEEK_4_INDEPENDENT_PROJECT_HYPOTHESIS_TESTING.ipynb\" target=\"_parent\"><img src=\"https://colab.research.google.com/assets/colab-badge.svg\" alt=\"Open In Colab\"/></a>"
      ]
    },
    {
      "cell_type": "markdown",
      "metadata": {
        "id": "IHh6x28Y7VX_",
        "colab_type": "text"
      },
      "source": [
        "# LOADING THE DATA & LIBRARIES"
      ]
    },
    {
      "cell_type": "code",
      "metadata": {
        "id": "VBJ4USpUyay2",
        "colab_type": "code",
        "colab": {}
      },
      "source": [
        "import pandas as pd\n",
        "\n",
        "import numpy as np\n",
        "\n",
        "import matplotlib.pyplot as pyplot\n",
        "\n",
        "import seaborn as sns\n",
        "\n",
        "import pandas_profiling\n",
        "\n",
        "from sklearn.cluster import KMeans\n",
        "\n",
        "from numpy.random import seed\n",
        "\n",
        "from numpy.random import randn\n",
        "\n",
        "from statsmodels.graphics.gofplots import qqplot\n",
        "\n",
        "%matplotlib inline"
      ],
      "execution_count": 0,
      "outputs": []
    },
    {
      "cell_type": "code",
      "metadata": {
        "id": "GVMHApgLzv2N",
        "colab_type": "code",
        "colab": {
          "base_uri": "https://localhost:8080/",
          "height": 443
        },
        "outputId": "8f993168-dc9d-4a47-b3ed-f25591424772"
      },
      "source": [
        "#loading the data\n",
        "df= pd.read_csv(\"/content/autolib_daily_events_postal_code.csv\")\n",
        "df\n"
      ],
      "execution_count": 3,
      "outputs": [
        {
          "output_type": "execute_result",
          "data": {
            "text/html": [
              "<div>\n",
              "<style scoped>\n",
              "    .dataframe tbody tr th:only-of-type {\n",
              "        vertical-align: middle;\n",
              "    }\n",
              "\n",
              "    .dataframe tbody tr th {\n",
              "        vertical-align: top;\n",
              "    }\n",
              "\n",
              "    .dataframe thead th {\n",
              "        text-align: right;\n",
              "    }\n",
              "</style>\n",
              "<table border=\"1\" class=\"dataframe\">\n",
              "  <thead>\n",
              "    <tr style=\"text-align: right;\">\n",
              "      <th></th>\n",
              "      <th>Postal code</th>\n",
              "      <th>date</th>\n",
              "      <th>n_daily_data_points</th>\n",
              "      <th>dayOfWeek</th>\n",
              "      <th>day_type</th>\n",
              "      <th>BlueCars_taken_sum</th>\n",
              "      <th>BlueCars_returned_sum</th>\n",
              "      <th>Utilib_taken_sum</th>\n",
              "      <th>Utilib_returned_sum</th>\n",
              "      <th>Utilib_14_taken_sum</th>\n",
              "      <th>Utilib_14_returned_sum</th>\n",
              "      <th>Slots_freed_sum</th>\n",
              "      <th>Slots_taken_sum</th>\n",
              "    </tr>\n",
              "  </thead>\n",
              "  <tbody>\n",
              "    <tr>\n",
              "      <th>0</th>\n",
              "      <td>75001</td>\n",
              "      <td>1/1/2018</td>\n",
              "      <td>1440</td>\n",
              "      <td>0</td>\n",
              "      <td>weekday</td>\n",
              "      <td>110</td>\n",
              "      <td>103</td>\n",
              "      <td>3</td>\n",
              "      <td>2</td>\n",
              "      <td>10</td>\n",
              "      <td>9</td>\n",
              "      <td>22</td>\n",
              "      <td>20</td>\n",
              "    </tr>\n",
              "    <tr>\n",
              "      <th>1</th>\n",
              "      <td>75001</td>\n",
              "      <td>1/2/2018</td>\n",
              "      <td>1438</td>\n",
              "      <td>1</td>\n",
              "      <td>weekday</td>\n",
              "      <td>98</td>\n",
              "      <td>94</td>\n",
              "      <td>1</td>\n",
              "      <td>1</td>\n",
              "      <td>8</td>\n",
              "      <td>8</td>\n",
              "      <td>23</td>\n",
              "      <td>22</td>\n",
              "    </tr>\n",
              "    <tr>\n",
              "      <th>2</th>\n",
              "      <td>75001</td>\n",
              "      <td>1/3/2018</td>\n",
              "      <td>1439</td>\n",
              "      <td>2</td>\n",
              "      <td>weekday</td>\n",
              "      <td>138</td>\n",
              "      <td>139</td>\n",
              "      <td>0</td>\n",
              "      <td>0</td>\n",
              "      <td>2</td>\n",
              "      <td>2</td>\n",
              "      <td>27</td>\n",
              "      <td>27</td>\n",
              "    </tr>\n",
              "    <tr>\n",
              "      <th>3</th>\n",
              "      <td>75001</td>\n",
              "      <td>1/4/2018</td>\n",
              "      <td>1320</td>\n",
              "      <td>3</td>\n",
              "      <td>weekday</td>\n",
              "      <td>104</td>\n",
              "      <td>104</td>\n",
              "      <td>2</td>\n",
              "      <td>2</td>\n",
              "      <td>9</td>\n",
              "      <td>8</td>\n",
              "      <td>25</td>\n",
              "      <td>21</td>\n",
              "    </tr>\n",
              "    <tr>\n",
              "      <th>4</th>\n",
              "      <td>75001</td>\n",
              "      <td>1/5/2018</td>\n",
              "      <td>1440</td>\n",
              "      <td>4</td>\n",
              "      <td>weekday</td>\n",
              "      <td>114</td>\n",
              "      <td>117</td>\n",
              "      <td>3</td>\n",
              "      <td>3</td>\n",
              "      <td>6</td>\n",
              "      <td>6</td>\n",
              "      <td>18</td>\n",
              "      <td>20</td>\n",
              "    </tr>\n",
              "    <tr>\n",
              "      <th>...</th>\n",
              "      <td>...</td>\n",
              "      <td>...</td>\n",
              "      <td>...</td>\n",
              "      <td>...</td>\n",
              "      <td>...</td>\n",
              "      <td>...</td>\n",
              "      <td>...</td>\n",
              "      <td>...</td>\n",
              "      <td>...</td>\n",
              "      <td>...</td>\n",
              "      <td>...</td>\n",
              "      <td>...</td>\n",
              "      <td>...</td>\n",
              "    </tr>\n",
              "    <tr>\n",
              "      <th>16080</th>\n",
              "      <td>95880</td>\n",
              "      <td>6/15/2018</td>\n",
              "      <td>1440</td>\n",
              "      <td>4</td>\n",
              "      <td>weekday</td>\n",
              "      <td>15</td>\n",
              "      <td>10</td>\n",
              "      <td>0</td>\n",
              "      <td>0</td>\n",
              "      <td>2</td>\n",
              "      <td>3</td>\n",
              "      <td>0</td>\n",
              "      <td>0</td>\n",
              "    </tr>\n",
              "    <tr>\n",
              "      <th>16081</th>\n",
              "      <td>95880</td>\n",
              "      <td>6/16/2018</td>\n",
              "      <td>1440</td>\n",
              "      <td>5</td>\n",
              "      <td>weekend</td>\n",
              "      <td>19</td>\n",
              "      <td>19</td>\n",
              "      <td>0</td>\n",
              "      <td>0</td>\n",
              "      <td>2</td>\n",
              "      <td>1</td>\n",
              "      <td>0</td>\n",
              "      <td>0</td>\n",
              "    </tr>\n",
              "    <tr>\n",
              "      <th>16082</th>\n",
              "      <td>95880</td>\n",
              "      <td>6/17/2018</td>\n",
              "      <td>1440</td>\n",
              "      <td>6</td>\n",
              "      <td>weekend</td>\n",
              "      <td>33</td>\n",
              "      <td>35</td>\n",
              "      <td>1</td>\n",
              "      <td>1</td>\n",
              "      <td>0</td>\n",
              "      <td>0</td>\n",
              "      <td>0</td>\n",
              "      <td>0</td>\n",
              "    </tr>\n",
              "    <tr>\n",
              "      <th>16083</th>\n",
              "      <td>95880</td>\n",
              "      <td>6/18/2018</td>\n",
              "      <td>1440</td>\n",
              "      <td>0</td>\n",
              "      <td>weekday</td>\n",
              "      <td>11</td>\n",
              "      <td>14</td>\n",
              "      <td>3</td>\n",
              "      <td>5</td>\n",
              "      <td>2</td>\n",
              "      <td>2</td>\n",
              "      <td>0</td>\n",
              "      <td>0</td>\n",
              "    </tr>\n",
              "    <tr>\n",
              "      <th>16084</th>\n",
              "      <td>95880</td>\n",
              "      <td>6/19/2018</td>\n",
              "      <td>1370</td>\n",
              "      <td>1</td>\n",
              "      <td>weekday</td>\n",
              "      <td>2</td>\n",
              "      <td>2</td>\n",
              "      <td>2</td>\n",
              "      <td>1</td>\n",
              "      <td>0</td>\n",
              "      <td>0</td>\n",
              "      <td>0</td>\n",
              "      <td>0</td>\n",
              "    </tr>\n",
              "  </tbody>\n",
              "</table>\n",
              "<p>16085 rows × 13 columns</p>\n",
              "</div>"
            ],
            "text/plain": [
              "       Postal code       date  ...  Slots_freed_sum  Slots_taken_sum\n",
              "0            75001   1/1/2018  ...               22               20\n",
              "1            75001   1/2/2018  ...               23               22\n",
              "2            75001   1/3/2018  ...               27               27\n",
              "3            75001   1/4/2018  ...               25               21\n",
              "4            75001   1/5/2018  ...               18               20\n",
              "...            ...        ...  ...              ...              ...\n",
              "16080        95880  6/15/2018  ...                0                0\n",
              "16081        95880  6/16/2018  ...                0                0\n",
              "16082        95880  6/17/2018  ...                0                0\n",
              "16083        95880  6/18/2018  ...                0                0\n",
              "16084        95880  6/19/2018  ...                0                0\n",
              "\n",
              "[16085 rows x 13 columns]"
            ]
          },
          "metadata": {
            "tags": []
          },
          "execution_count": 3
        }
      ]
    },
    {
      "cell_type": "code",
      "metadata": {
        "id": "bIx-6j096-BK",
        "colab_type": "code",
        "colab": {
          "base_uri": "https://localhost:8080/",
          "height": 336
        },
        "outputId": "0d25ab00-091b-41a6-a7b4-3a892df9a247"
      },
      "source": [
        "df.info()"
      ],
      "execution_count": 26,
      "outputs": [
        {
          "output_type": "stream",
          "text": [
            "<class 'pandas.core.frame.DataFrame'>\n",
            "RangeIndex: 16085 entries, 0 to 16084\n",
            "Data columns (total 13 columns):\n",
            "Postal code               16085 non-null int64\n",
            "date                      16085 non-null object\n",
            "n_daily_data_points       16085 non-null int64\n",
            "dayOfWeek                 16085 non-null int64\n",
            "day_type                  16085 non-null object\n",
            "BlueCars_taken_sum        16085 non-null int64\n",
            "BlueCars_returned_sum     16085 non-null int64\n",
            "Utilib_taken_sum          16085 non-null int64\n",
            "Utilib_returned_sum       16085 non-null int64\n",
            "Utilib_14_taken_sum       16085 non-null int64\n",
            "Utilib_14_returned_sum    16085 non-null int64\n",
            "Slots_freed_sum           16085 non-null int64\n",
            "Slots_taken_sum           16085 non-null int64\n",
            "dtypes: int64(11), object(2)\n",
            "memory usage: 1.6+ MB\n"
          ],
          "name": "stdout"
        }
      ]
    },
    {
      "cell_type": "code",
      "metadata": {
        "id": "hOBjMnAucCG3",
        "colab_type": "code",
        "colab": {
          "base_uri": "https://localhost:8080/",
          "height": 414
        },
        "outputId": "443d7057-bb85-429b-ee77-4465903a3505"
      },
      "source": [
        "#getting the correlation matrix of the dataframe\n",
        "#the correlation of an element to itself is 1 thus the larger the value is as it approaches one means that the correlation is higher\n",
        "#between the two variables/elements.\n",
        "df.corr()"
      ],
      "execution_count": 55,
      "outputs": [
        {
          "output_type": "execute_result",
          "data": {
            "text/html": [
              "<div>\n",
              "<style scoped>\n",
              "    .dataframe tbody tr th:only-of-type {\n",
              "        vertical-align: middle;\n",
              "    }\n",
              "\n",
              "    .dataframe tbody tr th {\n",
              "        vertical-align: top;\n",
              "    }\n",
              "\n",
              "    .dataframe thead th {\n",
              "        text-align: right;\n",
              "    }\n",
              "</style>\n",
              "<table border=\"1\" class=\"dataframe\">\n",
              "  <thead>\n",
              "    <tr style=\"text-align: right;\">\n",
              "      <th></th>\n",
              "      <th>Postal code</th>\n",
              "      <th>n_daily_data_points</th>\n",
              "      <th>dayOfWeek</th>\n",
              "      <th>BlueCars_taken_sum</th>\n",
              "      <th>BlueCars_returned_sum</th>\n",
              "      <th>Utilib_taken_sum</th>\n",
              "      <th>Utilib_returned_sum</th>\n",
              "      <th>Utilib_14_taken_sum</th>\n",
              "      <th>Utilib_14_returned_sum</th>\n",
              "      <th>Slots_freed_sum</th>\n",
              "      <th>Slots_taken_sum</th>\n",
              "    </tr>\n",
              "  </thead>\n",
              "  <tbody>\n",
              "    <tr>\n",
              "      <th>Postal code</th>\n",
              "      <td>1.000000</td>\n",
              "      <td>0.000432</td>\n",
              "      <td>0.000343</td>\n",
              "      <td>-0.698020</td>\n",
              "      <td>-0.697519</td>\n",
              "      <td>-0.625521</td>\n",
              "      <td>-0.624786</td>\n",
              "      <td>-0.656744</td>\n",
              "      <td>-0.656516</td>\n",
              "      <td>-0.749528</td>\n",
              "      <td>-0.749157</td>\n",
              "    </tr>\n",
              "    <tr>\n",
              "      <th>n_daily_data_points</th>\n",
              "      <td>0.000432</td>\n",
              "      <td>1.000000</td>\n",
              "      <td>0.002039</td>\n",
              "      <td>0.029411</td>\n",
              "      <td>0.030063</td>\n",
              "      <td>0.022669</td>\n",
              "      <td>0.023322</td>\n",
              "      <td>0.025738</td>\n",
              "      <td>0.026351</td>\n",
              "      <td>0.020873</td>\n",
              "      <td>0.021169</td>\n",
              "    </tr>\n",
              "    <tr>\n",
              "      <th>dayOfWeek</th>\n",
              "      <td>0.000343</td>\n",
              "      <td>0.002039</td>\n",
              "      <td>1.000000</td>\n",
              "      <td>0.079649</td>\n",
              "      <td>0.081954</td>\n",
              "      <td>0.069295</td>\n",
              "      <td>0.071713</td>\n",
              "      <td>0.068790</td>\n",
              "      <td>0.071279</td>\n",
              "      <td>0.049960</td>\n",
              "      <td>0.050468</td>\n",
              "    </tr>\n",
              "    <tr>\n",
              "      <th>BlueCars_taken_sum</th>\n",
              "      <td>-0.698020</td>\n",
              "      <td>0.029411</td>\n",
              "      <td>0.079649</td>\n",
              "      <td>1.000000</td>\n",
              "      <td>0.998660</td>\n",
              "      <td>0.893833</td>\n",
              "      <td>0.892850</td>\n",
              "      <td>0.940946</td>\n",
              "      <td>0.940757</td>\n",
              "      <td>0.948575</td>\n",
              "      <td>0.947996</td>\n",
              "    </tr>\n",
              "    <tr>\n",
              "      <th>BlueCars_returned_sum</th>\n",
              "      <td>-0.697519</td>\n",
              "      <td>0.030063</td>\n",
              "      <td>0.081954</td>\n",
              "      <td>0.998660</td>\n",
              "      <td>1.000000</td>\n",
              "      <td>0.893613</td>\n",
              "      <td>0.893268</td>\n",
              "      <td>0.940542</td>\n",
              "      <td>0.941117</td>\n",
              "      <td>0.948258</td>\n",
              "      <td>0.948771</td>\n",
              "    </tr>\n",
              "    <tr>\n",
              "      <th>Utilib_taken_sum</th>\n",
              "      <td>-0.625521</td>\n",
              "      <td>0.022669</td>\n",
              "      <td>0.069295</td>\n",
              "      <td>0.893833</td>\n",
              "      <td>0.893613</td>\n",
              "      <td>1.000000</td>\n",
              "      <td>0.981982</td>\n",
              "      <td>0.847519</td>\n",
              "      <td>0.846304</td>\n",
              "      <td>0.853760</td>\n",
              "      <td>0.853049</td>\n",
              "    </tr>\n",
              "    <tr>\n",
              "      <th>Utilib_returned_sum</th>\n",
              "      <td>-0.624786</td>\n",
              "      <td>0.023322</td>\n",
              "      <td>0.071713</td>\n",
              "      <td>0.892850</td>\n",
              "      <td>0.893268</td>\n",
              "      <td>0.981982</td>\n",
              "      <td>1.000000</td>\n",
              "      <td>0.845645</td>\n",
              "      <td>0.845306</td>\n",
              "      <td>0.852939</td>\n",
              "      <td>0.852936</td>\n",
              "    </tr>\n",
              "    <tr>\n",
              "      <th>Utilib_14_taken_sum</th>\n",
              "      <td>-0.656744</td>\n",
              "      <td>0.025738</td>\n",
              "      <td>0.068790</td>\n",
              "      <td>0.940946</td>\n",
              "      <td>0.940542</td>\n",
              "      <td>0.847519</td>\n",
              "      <td>0.845645</td>\n",
              "      <td>1.000000</td>\n",
              "      <td>0.992062</td>\n",
              "      <td>0.899232</td>\n",
              "      <td>0.898719</td>\n",
              "    </tr>\n",
              "    <tr>\n",
              "      <th>Utilib_14_returned_sum</th>\n",
              "      <td>-0.656516</td>\n",
              "      <td>0.026351</td>\n",
              "      <td>0.071279</td>\n",
              "      <td>0.940757</td>\n",
              "      <td>0.941117</td>\n",
              "      <td>0.846304</td>\n",
              "      <td>0.845306</td>\n",
              "      <td>0.992062</td>\n",
              "      <td>1.000000</td>\n",
              "      <td>0.899442</td>\n",
              "      <td>0.899777</td>\n",
              "    </tr>\n",
              "    <tr>\n",
              "      <th>Slots_freed_sum</th>\n",
              "      <td>-0.749528</td>\n",
              "      <td>0.020873</td>\n",
              "      <td>0.049960</td>\n",
              "      <td>0.948575</td>\n",
              "      <td>0.948258</td>\n",
              "      <td>0.853760</td>\n",
              "      <td>0.852939</td>\n",
              "      <td>0.899232</td>\n",
              "      <td>0.899442</td>\n",
              "      <td>1.000000</td>\n",
              "      <td>0.999221</td>\n",
              "    </tr>\n",
              "    <tr>\n",
              "      <th>Slots_taken_sum</th>\n",
              "      <td>-0.749157</td>\n",
              "      <td>0.021169</td>\n",
              "      <td>0.050468</td>\n",
              "      <td>0.947996</td>\n",
              "      <td>0.948771</td>\n",
              "      <td>0.853049</td>\n",
              "      <td>0.852936</td>\n",
              "      <td>0.898719</td>\n",
              "      <td>0.899777</td>\n",
              "      <td>0.999221</td>\n",
              "      <td>1.000000</td>\n",
              "    </tr>\n",
              "  </tbody>\n",
              "</table>\n",
              "</div>"
            ],
            "text/plain": [
              "                        Postal code  ...  Slots_taken_sum\n",
              "Postal code                1.000000  ...        -0.749157\n",
              "n_daily_data_points        0.000432  ...         0.021169\n",
              "dayOfWeek                  0.000343  ...         0.050468\n",
              "BlueCars_taken_sum        -0.698020  ...         0.947996\n",
              "BlueCars_returned_sum     -0.697519  ...         0.948771\n",
              "Utilib_taken_sum          -0.625521  ...         0.853049\n",
              "Utilib_returned_sum       -0.624786  ...         0.852936\n",
              "Utilib_14_taken_sum       -0.656744  ...         0.898719\n",
              "Utilib_14_returned_sum    -0.656516  ...         0.899777\n",
              "Slots_freed_sum           -0.749528  ...         0.999221\n",
              "Slots_taken_sum           -0.749157  ...         1.000000\n",
              "\n",
              "[11 rows x 11 columns]"
            ]
          },
          "metadata": {
            "tags": []
          },
          "execution_count": 55
        }
      ]
    },
    {
      "cell_type": "markdown",
      "metadata": {
        "id": "AfDD1Ldk7Eu2",
        "colab_type": "text"
      },
      "source": [
        "# UNIVARIATE ANALYSIS"
      ]
    },
    {
      "cell_type": "markdown",
      "metadata": {
        "id": "5Fzah5fT5wOH",
        "colab_type": "text"
      },
      "source": [
        "# Postal Code \n",
        "postal code of the area (in Paris)"
      ]
    },
    {
      "cell_type": "code",
      "metadata": {
        "id": "3ILQlvnc1dfQ",
        "colab_type": "code",
        "colab": {
          "base_uri": "https://localhost:8080/",
          "height": 230
        },
        "outputId": "60498722-444a-44f9-9ef6-911675d2c470"
      },
      "source": [
        "#column 1\n",
        "df['Postal code'].unique()\n",
        "#df.groupby(df['Postal code']).sum()\n",
        "#df['Postal code'].value_counts()\n",
        "#there are 104 unique postal codes "
      ],
      "execution_count": 21,
      "outputs": [
        {
          "output_type": "execute_result",
          "data": {
            "text/plain": [
              "array([75001, 75002, 75003, 75004, 75005, 75006, 75007, 75008, 75009,\n",
              "       75010, 75011, 75012, 75013, 75014, 75015, 75016, 75017, 75018,\n",
              "       75019, 75020, 75112, 75116, 78000, 78140, 78150, 91330, 91370,\n",
              "       91400, 92000, 92100, 92110, 92120, 92130, 92140, 92150, 92160,\n",
              "       92170, 92190, 92200, 92210, 92220, 92230, 92240, 92250, 92260,\n",
              "       92270, 92290, 92300, 92310, 92320, 92330, 92340, 92350, 92360,\n",
              "       92370, 92380, 92390, 92400, 92410, 92420, 92500, 92600, 92700,\n",
              "       92800, 93100, 93110, 93130, 93150, 93170, 93200, 93230, 93260,\n",
              "       93300, 93310, 93350, 93360, 93370, 93390, 93400, 93440, 93500,\n",
              "       93600, 93700, 93800, 94000, 94100, 94110, 94120, 94130, 94140,\n",
              "       94150, 94160, 94220, 94230, 94300, 94340, 94410, 94450, 94500,\n",
              "       94700, 94800, 95100, 95870, 95880])"
            ]
          },
          "metadata": {
            "tags": []
          },
          "execution_count": 21
        }
      ]
    },
    {
      "cell_type": "code",
      "metadata": {
        "id": "GOk5JlGU-8QK",
        "colab_type": "code",
        "colab": {
          "base_uri": "https://localhost:8080/",
          "height": 34
        },
        "outputId": "dce098cc-3a06-40d2-dc4b-a69db2154909"
      },
      "source": [
        "df['Postal code'].isnull().sum()\n",
        "#there are no null values in the postal code column"
      ],
      "execution_count": 32,
      "outputs": [
        {
          "output_type": "execute_result",
          "data": {
            "text/plain": [
              "0"
            ]
          },
          "metadata": {
            "tags": []
          },
          "execution_count": 32
        }
      ]
    },
    {
      "cell_type": "code",
      "metadata": {
        "id": "uNjzteAr6Aan",
        "colab_type": "code",
        "colab": {
          "base_uri": "https://localhost:8080/",
          "height": 281
        },
        "outputId": "e00776b5-1fa7-41a4-ae79-1f6b2fecf15b"
      },
      "source": [
        "#Histogram of the Postal Code column\n",
        "pyplot.hist(df['Postal code'])\n",
        "pyplot.title('Histogram of the Postal Code counts')\n",
        "pyplot.show()"
      ],
      "execution_count": 37,
      "outputs": [
        {
          "output_type": "display_data",
          "data": {
            "image/png": "[encoded data removed]",
            "text/plain": [
              "<Figure size 432x288 with 1 Axes>"
            ]
          },
          "metadata": {
            "tags": []
          }
        }
      ]
    },
    {
      "cell_type": "code",
      "metadata": {
        "id": "n0nFRelW-rko",
        "colab_type": "code",
        "colab": {
          "base_uri": "https://localhost:8080/",
          "height": 294
        },
        "outputId": "f28736c0-2db0-41fb-f5ec-28e821c23833"
      },
      "source": [
        "#Q-Q plot to show the distribution of the entries based on the postal codes.\n",
        "qqplot(df['Postal code'], line='s')\n",
        "pyplot.title('Q-Q Plot of the Postal Codes')\n",
        "pyplot.show()"
      ],
      "execution_count": 36,
      "outputs": [
        {
          "output_type": "display_data",
          "data": {
            "image/png": "[encoded data removed]",
            "text/plain": [
              "<Figure size 432x288 with 1 Axes>"
            ]
          },
          "metadata": {
            "tags": []
          }
        }
      ]
    },
    {
      "cell_type": "markdown",
      "metadata": {
        "id": "PHyfG-DtBeXZ",
        "colab_type": "text"
      },
      "source": [
        "# Date\n",
        "date of the row aggregation"
      ]
    },
    {
      "cell_type": "code",
      "metadata": {
        "id": "g7ChFz5ABjT-",
        "colab_type": "code",
        "colab": {
          "base_uri": "https://localhost:8080/",
          "height": 105
        },
        "outputId": "46ca94a7-5658-4fd3-8df9-1748e5e33a56"
      },
      "source": [
        "\n",
        "df['date'].describe()\n",
        "#the datatype for the date is wrong and should be changed to date_time\n",
        "#there are 156 unique dates meaning that the data was taken over a period of 156 days\n",
        "#2nd January 2018 has the highest records"
      ],
      "execution_count": 39,
      "outputs": [
        {
          "output_type": "execute_result",
          "data": {
            "text/plain": [
              "count        16085\n",
              "unique         156\n",
              "top       2/1/2018\n",
              "freq           104\n",
              "Name: date, dtype: object"
            ]
          },
          "metadata": {
            "tags": []
          },
          "execution_count": 39
        }
      ]
    },
    {
      "cell_type": "code",
      "metadata": {
        "id": "CH5LsWwICaDg",
        "colab_type": "code",
        "colab": {
          "base_uri": "https://localhost:8080/",
          "height": 141
        },
        "outputId": "0f79427f-2885-4b4f-87ef-949a5c300f90"
      },
      "source": [
        "#changing to date_time\n",
        "from datetime import datetime\n",
        "#first convert the date time into string \n",
        "df['date'] =  pd.to_datetime(df['date'])\n",
        "df['date'].describe()\n",
        "#the data records are from first January 2018 to 19th June 2018"
      ],
      "execution_count": 49,
      "outputs": [
        {
          "output_type": "execute_result",
          "data": {
            "text/plain": [
              "count                   16085\n",
              "unique                    156\n",
              "top       2018-06-12 00:00:00\n",
              "freq                      104\n",
              "first     2018-01-01 00:00:00\n",
              "last      2018-06-19 00:00:00\n",
              "Name: date, dtype: object"
            ]
          },
          "metadata": {
            "tags": []
          },
          "execution_count": 49
        }
      ]
    },
    {
      "cell_type": "markdown",
      "metadata": {
        "id": "fzQUeTIuBXuB",
        "colab_type": "text"
      },
      "source": [
        "# n_daily_data_points\n",
        "number of daily data points that were available for aggregation, that day"
      ]
    },
    {
      "cell_type": "code",
      "metadata": {
        "id": "nBbsJWQCBPsl",
        "colab_type": "code",
        "colab": {
          "base_uri": "https://localhost:8080/",
          "height": 70
        },
        "outputId": "158571d6-7470-41f0-e038-db17aa374e95"
      },
      "source": [
        "\n",
        "df['n_daily_data_points'].unique()"
      ],
      "execution_count": 59,
      "outputs": [
        {
          "output_type": "execute_result",
          "data": {
            "text/plain": [
              "array([1440, 1438, 1439, 1320, 1437, 1434, 1398, 1420, 1425, 1396, 1429,\n",
              "       1389, 1380, 1364, 1318, 1377, 1203, 1417, 1435, 1174, 1436, 1411,\n",
              "       1370])"
            ]
          },
          "metadata": {
            "tags": []
          },
          "execution_count": 59
        }
      ]
    },
    {
      "cell_type": "code",
      "metadata": {
        "id": "AmWBtGsTMLpG",
        "colab_type": "code",
        "colab": {
          "base_uri": "https://localhost:8080/",
          "height": 176
        },
        "outputId": "d2970c70-699c-471d-badf-4a7c883c223a"
      },
      "source": [
        "df['n_daily_data_points'].describe()\n",
        "#count    16085.000000\n",
        "#mean      1431.330619\n",
        "#std         33.212050\n",
        "#min       1174.000000\n",
        "#25%       1439.000000\n",
        "#50%       1440.000000\n",
        "#75%       1440.000000\n",
        "#max       1440.000000"
      ],
      "execution_count": 51,
      "outputs": [
        {
          "output_type": "execute_result",
          "data": {
            "text/plain": [
              "count    16085.000000\n",
              "mean      1431.330619\n",
              "std         33.212050\n",
              "min       1174.000000\n",
              "25%       1439.000000\n",
              "50%       1440.000000\n",
              "75%       1440.000000\n",
              "max       1440.000000\n",
              "Name: n_daily_data_points, dtype: float64"
            ]
          },
          "metadata": {
            "tags": []
          },
          "execution_count": 51
        }
      ]
    },
    {
      "cell_type": "code",
      "metadata": {
        "id": "9Ix1uKrGa66b",
        "colab_type": "code",
        "colab": {
          "base_uri": "https://localhost:8080/",
          "height": 281
        },
        "outputId": "e2a72bfe-f45f-4c2c-f733-77e937730e0d"
      },
      "source": [
        "#Histogram of the n_daily_data_points column\n",
        "pyplot.hist(df['n_daily_data_points'])\n",
        "pyplot.title('Histogram of the n_daily_data_points counts')\n",
        "pyplot.show()\n",
        "#the data is skewed "
      ],
      "execution_count": 52,
      "outputs": [
        {
          "output_type": "display_data",
          "data": {
            "image/png": "[encoded data removed]",
            "text/plain": [
              "<Figure size 432x288 with 1 Axes>"
            ]
          },
          "metadata": {
            "tags": []
          }
        }
      ]
    },
    {
      "cell_type": "code",
      "metadata": {
        "id": "RAYq6nSVbKbW",
        "colab_type": "code",
        "colab": {
          "base_uri": "https://localhost:8080/",
          "height": 294
        },
        "outputId": "b2da6ac4-607a-47eb-c642-144993b07a8d"
      },
      "source": [
        "#Q-Q plot to show the distribution of the entries based on the n_daily_data_points.\n",
        "qqplot(df['n_daily_data_points'], line='s')\n",
        "pyplot.title('Q-Q Plot of the n_daily_data_points')\n",
        "pyplot.show()\n",
        "#The data does not follow a normal distribution"
      ],
      "execution_count": 54,
      "outputs": [
        {
          "output_type": "display_data",
          "data": {
            "image/png": "[encoded data removed]",
            "text/plain": [
              "<Figure size 432x288 with 1 Axes>"
            ]
          },
          "metadata": {
            "tags": []
          }
        }
      ]
    },
    {
      "cell_type": "code",
      "metadata": {
        "id": "2o1nJ4ganMHx",
        "colab_type": "code",
        "colab": {
          "base_uri": "https://localhost:8080/",
          "height": 285
        },
        "outputId": "00ddda07-ada6-443e-b07b-dfb3a342cd2e"
      },
      "source": [
        "df.boxplot(column=['n_daily_data_points'])"
      ],
      "execution_count": 70,
      "outputs": [
        {
          "output_type": "execute_result",
          "data": {
            "text/plain": [
              "<matplotlib.axes._subplots.AxesSubplot at 0x7f94075206a0>"
            ]
          },
          "metadata": {
            "tags": []
          },
          "execution_count": 70
        },
        {
          "output_type": "display_data",
          "data": {
            "image/png": "[encoded data removed]",
            "text/plain": [
              "<Figure size 432x288 with 1 Axes>"
            ]
          },
          "metadata": {
            "tags": []
          }
        }
      ]
    },
    {
      "cell_type": "code",
      "metadata": {
        "id": "A9rARD4CgY1e",
        "colab_type": "code",
        "colab": {
          "base_uri": "https://localhost:8080/",
          "height": 34
        },
        "outputId": "dc37684e-903f-4fd8-d1c1-451818c06916"
      },
      "source": [
        "df['n_daily_data_points'].skew()\n",
        "#the data is skewed to the left\n",
        "#has a longer tail to the left of the distribution"
      ],
      "execution_count": 57,
      "outputs": [
        {
          "output_type": "execute_result",
          "data": {
            "text/plain": [
              "-5.742776211517434"
            ]
          },
          "metadata": {
            "tags": []
          },
          "execution_count": 57
        }
      ]
    },
    {
      "cell_type": "markdown",
      "metadata": {
        "id": "010WsDcci6iF",
        "colab_type": "text"
      },
      "source": [
        "# Day Of Week\n",
        "identifier of weekday (0: Monday -> 6: Sunday)"
      ]
    },
    {
      "cell_type": "code",
      "metadata": {
        "id": "zd1gbFzNjC2I",
        "colab_type": "code",
        "colab": {
          "base_uri": "https://localhost:8080/",
          "height": 34
        },
        "outputId": "902d83d4-d502-45c1-9e51-e25b1ac83928"
      },
      "source": [
        "df['dayOfWeek'].unique()\n",
        "#7 days of the week"
      ],
      "execution_count": 61,
      "outputs": [
        {
          "output_type": "execute_result",
          "data": {
            "text/plain": [
              "array([0, 1, 2, 3, 4, 5, 6])"
            ]
          },
          "metadata": {
            "tags": []
          },
          "execution_count": 61
        }
      ]
    },
    {
      "cell_type": "code",
      "metadata": {
        "id": "CEG8degWjYSH",
        "colab_type": "code",
        "colab": {
          "base_uri": "https://localhost:8080/",
          "height": 176
        },
        "outputId": "cee31397-caf2-45f3-cbd0-94cc83d25488"
      },
      "source": [
        "df['dayOfWeek'].describe()\n",
        "#75% of the data was recorded on saturday"
      ],
      "execution_count": 63,
      "outputs": [
        {
          "output_type": "execute_result",
          "data": {
            "text/plain": [
              "count    16085.000000\n",
              "mean         2.969599\n",
              "std          2.008378\n",
              "min          0.000000\n",
              "25%          1.000000\n",
              "50%          3.000000\n",
              "75%          5.000000\n",
              "max          6.000000\n",
              "Name: dayOfWeek, dtype: float64"
            ]
          },
          "metadata": {
            "tags": []
          },
          "execution_count": 63
        }
      ]
    },
    {
      "cell_type": "code",
      "metadata": {
        "id": "OM0-KDZYlbbU",
        "colab_type": "code",
        "colab": {
          "base_uri": "https://localhost:8080/",
          "height": 324
        },
        "outputId": "587dd0d0-f06b-4158-caed-1c00b485e37e"
      },
      "source": [
        "df.groupby(df['dayOfWeek']).count()\n",
        "#the data distribution has a small variation with the values ranging from 2267 to 2374"
      ],
      "execution_count": 66,
      "outputs": [
        {
          "output_type": "execute_result",
          "data": {
            "text/html": [
              "<div>\n",
              "<style scoped>\n",
              "    .dataframe tbody tr th:only-of-type {\n",
              "        vertical-align: middle;\n",
              "    }\n",
              "\n",
              "    .dataframe tbody tr th {\n",
              "        vertical-align: top;\n",
              "    }\n",
              "\n",
              "    .dataframe thead th {\n",
              "        text-align: right;\n",
              "    }\n",
              "</style>\n",
              "<table border=\"1\" class=\"dataframe\">\n",
              "  <thead>\n",
              "    <tr style=\"text-align: right;\">\n",
              "      <th></th>\n",
              "      <th>Postal code</th>\n",
              "      <th>date</th>\n",
              "      <th>n_daily_data_points</th>\n",
              "      <th>day_type</th>\n",
              "      <th>BlueCars_taken_sum</th>\n",
              "      <th>BlueCars_returned_sum</th>\n",
              "      <th>Utilib_taken_sum</th>\n",
              "      <th>Utilib_returned_sum</th>\n",
              "      <th>Utilib_14_taken_sum</th>\n",
              "      <th>Utilib_14_returned_sum</th>\n",
              "      <th>Slots_freed_sum</th>\n",
              "      <th>Slots_taken_sum</th>\n",
              "    </tr>\n",
              "    <tr>\n",
              "      <th>dayOfWeek</th>\n",
              "      <th></th>\n",
              "      <th></th>\n",
              "      <th></th>\n",
              "      <th></th>\n",
              "      <th></th>\n",
              "      <th></th>\n",
              "      <th></th>\n",
              "      <th></th>\n",
              "      <th></th>\n",
              "      <th></th>\n",
              "      <th></th>\n",
              "      <th></th>\n",
              "    </tr>\n",
              "  </thead>\n",
              "  <tbody>\n",
              "    <tr>\n",
              "      <th>0</th>\n",
              "      <td>2374</td>\n",
              "      <td>2374</td>\n",
              "      <td>2374</td>\n",
              "      <td>2374</td>\n",
              "      <td>2374</td>\n",
              "      <td>2374</td>\n",
              "      <td>2374</td>\n",
              "      <td>2374</td>\n",
              "      <td>2374</td>\n",
              "      <td>2374</td>\n",
              "      <td>2374</td>\n",
              "      <td>2374</td>\n",
              "    </tr>\n",
              "    <tr>\n",
              "      <th>1</th>\n",
              "      <td>2363</td>\n",
              "      <td>2363</td>\n",
              "      <td>2363</td>\n",
              "      <td>2363</td>\n",
              "      <td>2363</td>\n",
              "      <td>2363</td>\n",
              "      <td>2363</td>\n",
              "      <td>2363</td>\n",
              "      <td>2363</td>\n",
              "      <td>2363</td>\n",
              "      <td>2363</td>\n",
              "      <td>2363</td>\n",
              "    </tr>\n",
              "    <tr>\n",
              "      <th>2</th>\n",
              "      <td>2268</td>\n",
              "      <td>2268</td>\n",
              "      <td>2268</td>\n",
              "      <td>2268</td>\n",
              "      <td>2268</td>\n",
              "      <td>2268</td>\n",
              "      <td>2268</td>\n",
              "      <td>2268</td>\n",
              "      <td>2268</td>\n",
              "      <td>2268</td>\n",
              "      <td>2268</td>\n",
              "      <td>2268</td>\n",
              "    </tr>\n",
              "    <tr>\n",
              "      <th>3</th>\n",
              "      <td>2268</td>\n",
              "      <td>2268</td>\n",
              "      <td>2268</td>\n",
              "      <td>2268</td>\n",
              "      <td>2268</td>\n",
              "      <td>2268</td>\n",
              "      <td>2268</td>\n",
              "      <td>2268</td>\n",
              "      <td>2268</td>\n",
              "      <td>2268</td>\n",
              "      <td>2268</td>\n",
              "      <td>2268</td>\n",
              "    </tr>\n",
              "    <tr>\n",
              "      <th>4</th>\n",
              "      <td>2271</td>\n",
              "      <td>2271</td>\n",
              "      <td>2271</td>\n",
              "      <td>2271</td>\n",
              "      <td>2271</td>\n",
              "      <td>2271</td>\n",
              "      <td>2271</td>\n",
              "      <td>2271</td>\n",
              "      <td>2271</td>\n",
              "      <td>2271</td>\n",
              "      <td>2271</td>\n",
              "      <td>2271</td>\n",
              "    </tr>\n",
              "    <tr>\n",
              "      <th>5</th>\n",
              "      <td>2267</td>\n",
              "      <td>2267</td>\n",
              "      <td>2267</td>\n",
              "      <td>2267</td>\n",
              "      <td>2267</td>\n",
              "      <td>2267</td>\n",
              "      <td>2267</td>\n",
              "      <td>2267</td>\n",
              "      <td>2267</td>\n",
              "      <td>2267</td>\n",
              "      <td>2267</td>\n",
              "      <td>2267</td>\n",
              "    </tr>\n",
              "    <tr>\n",
              "      <th>6</th>\n",
              "      <td>2274</td>\n",
              "      <td>2274</td>\n",
              "      <td>2274</td>\n",
              "      <td>2274</td>\n",
              "      <td>2274</td>\n",
              "      <td>2274</td>\n",
              "      <td>2274</td>\n",
              "      <td>2274</td>\n",
              "      <td>2274</td>\n",
              "      <td>2274</td>\n",
              "      <td>2274</td>\n",
              "      <td>2274</td>\n",
              "    </tr>\n",
              "  </tbody>\n",
              "</table>\n",
              "</div>"
            ],
            "text/plain": [
              "           Postal code  date  ...  Slots_freed_sum  Slots_taken_sum\n",
              "dayOfWeek                     ...                                  \n",
              "0                 2374  2374  ...             2374             2374\n",
              "1                 2363  2363  ...             2363             2363\n",
              "2                 2268  2268  ...             2268             2268\n",
              "3                 2268  2268  ...             2268             2268\n",
              "4                 2271  2271  ...             2271             2271\n",
              "5                 2267  2267  ...             2267             2267\n",
              "6                 2274  2274  ...             2274             2274\n",
              "\n",
              "[7 rows x 12 columns]"
            ]
          },
          "metadata": {
            "tags": []
          },
          "execution_count": 66
        }
      ]
    },
    {
      "cell_type": "code",
      "metadata": {
        "id": "1H0nURPEkHUA",
        "colab_type": "code",
        "colab": {
          "base_uri": "https://localhost:8080/",
          "height": 281
        },
        "outputId": "469eccf3-207f-466a-c023-0862cd04a778"
      },
      "source": [
        "#Histogram to show the distribution throughout the week column\n",
        "pyplot.hist(df['dayOfWeek'])\n",
        "pyplot.title('Histogram of Days of the Week')\n",
        "pyplot.show()\n",
        "#no much variation in the distribution"
      ],
      "execution_count": 64,
      "outputs": [
        {
          "output_type": "display_data",
          "data": {
            "image/png": "[encoded data removed]",
            "text/plain": [
              "<Figure size 432x288 with 1 Axes>"
            ]
          },
          "metadata": {
            "tags": []
          }
        }
      ]
    },
    {
      "cell_type": "markdown",
      "metadata": {
        "id": "SoNLkdBvoGDS",
        "colab_type": "text"
      },
      "source": [
        "# Day Type\n",
        "Weekday or Weekend"
      ]
    },
    {
      "cell_type": "code",
      "metadata": {
        "id": "sQkesWYeoSfJ",
        "colab_type": "code",
        "colab": {
          "base_uri": "https://localhost:8080/",
          "height": 281
        },
        "outputId": "9111edc5-b125-4403-af2b-9185eef0d96e"
      },
      "source": [
        "pyplot.hist(df['day_type'])\n",
        "pyplot.title('Type Of Day')\n",
        "pyplot.show()\n"
      ],
      "execution_count": 73,
      "outputs": [
        {
          "output_type": "display_data",
          "data": {
            "image/png": "[encoded data removed]",
            "text/plain": [
              "<Figure size 432x288 with 1 Axes>"
            ]
          },
          "metadata": {
            "tags": []
          }
        }
      ]
    },
    {
      "cell_type": "code",
      "metadata": {
        "id": "adTI-RIUpLlD",
        "colab_type": "code",
        "colab": {}
      },
      "source": [
        ""
      ],
      "execution_count": 0,
      "outputs": []
    },
    {
      "cell_type": "markdown",
      "metadata": {
        "id": "Snv54IeKpOfX",
        "colab_type": "text"
      },
      "source": [
        "# Blue Cars "
      ]
    },
    {
      "cell_type": "code",
      "metadata": {
        "id": "2E57cUoHpd1t",
        "colab_type": "code",
        "colab": {}
      },
      "source": [
        ""
      ],
      "execution_count": 0,
      "outputs": []
    },
    {
      "cell_type": "markdown",
      "metadata": {
        "id": "bOufjM-7pekC",
        "colab_type": "text"
      },
      "source": [
        "# Utilib"
      ]
    },
    {
      "cell_type": "code",
      "metadata": {
        "id": "Aa3_SvmAph2h",
        "colab_type": "code",
        "colab": {}
      },
      "source": [
        ""
      ],
      "execution_count": 0,
      "outputs": []
    },
    {
      "cell_type": "markdown",
      "metadata": {
        "id": "onkN5hugpkSf",
        "colab_type": "text"
      },
      "source": [
        "# Utilib 14"
      ]
    },
    {
      "cell_type": "code",
      "metadata": {
        "id": "Lqe6yAd5pTph",
        "colab_type": "code",
        "colab": {}
      },
      "source": [
        ""
      ],
      "execution_count": 0,
      "outputs": []
    },
    {
      "cell_type": "code",
      "metadata": {
        "id": "meDeV4YwpoKy",
        "colab_type": "code",
        "colab": {}
      },
      "source": [
        ""
      ],
      "execution_count": 0,
      "outputs": []
    },
    {
      "cell_type": "markdown",
      "metadata": {
        "id": "RW5cIRAV7IXI",
        "colab_type": "text"
      },
      "source": [
        "# BI-VARIATE ANALYSIS"
      ]
    },
    {
      "cell_type": "markdown",
      "metadata": {
        "id": "mUCAqu3R7LEZ",
        "colab_type": "text"
      },
      "source": [
        "# MULTI-VARIATE ANALYSIS"
      ]
    },
    {
      "cell_type": "markdown",
      "metadata": {
        "id": "CpSHnuHC7Pc8",
        "colab_type": "text"
      },
      "source": [
        "# SAMPLING"
      ]
    },
    {
      "cell_type": "markdown",
      "metadata": {
        "id": "migCXBGTzJy1",
        "colab_type": "text"
      },
      "source": [
        "# EXPLORATORY DATA ANALYSIS"
      ]
    },
    {
      "cell_type": "markdown",
      "metadata": {
        "id": "lKHEjhKnzNnz",
        "colab_type": "text"
      },
      "source": [
        "# HYPOTHESIS"
      ]
    }
  ]
}